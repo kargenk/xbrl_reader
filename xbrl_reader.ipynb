{
 "cells": [
  {
   "cell_type": "markdown",
   "metadata": {},
   "source": [
    "# メモ書き\n",
    "## key(項目)\n",
    "### jpcrp_cor:CompanyNameCoverPage\n",
    "企業名\n",
    "### jppfs_cor:Assets\n",
    "総資産\n",
    "### jpcrp_cor:NetSalesSummaryOfBusinessResults\n",
    "売上高:製品や商品など有形物を販売する場合\n",
    "### jpcrp_cor:OperatingRevenue1SummaryOfBusinessResults\n",
    "営業収益:無形のサービスや手数料などを提供した場合\n",
    "\n",
    "## context_ref(詳細)\n",
    "### FilingDateInstant\n",
    "企業名のコンテキスト(詳細不明)\n",
    "### CurrentYearInstant_NonConsolidatedMember\n",
    "CurrentYearInstant:今年度\n",
    "NonConsolidatedMember:単体情報(親会社-持ち株会社のみ) ，ない場合は連結情報（子会社含む，ホールディングスと名前につくことが多い）\n",
    "\n",
    "Instantは総資産のみに使われていると思われる\n",
    "#### CurrentYearDuration_NonConsolidatedMember\n",
    "Duration:期間 は 代n期を示す\n",
    "\n",
    "Current:今期, Prior1:前期, Prior2:前々期, 以降さかのぼるごとにPriorに続く数値が増える"
   ]
  },
  {
   "cell_type": "code",
   "execution_count": 35,
   "metadata": {},
   "outputs": [],
   "source": [
    "#!usr/bin/env python3\n",
    "# -*- coding: utf-8 -*-"
   ]
  },
  {
   "cell_type": "code",
   "execution_count": 36,
   "metadata": {},
   "outputs": [],
   "source": [
    "from edinet_xbrl.edinet_xbrl_parser import EdinetXbrlParser\n",
    "import fnmatch\n",
    "import os"
   ]
  },
  {
   "cell_type": "code",
   "execution_count": 37,
   "metadata": {},
   "outputs": [],
   "source": [
    "# 全xbrlファイルパスを取得する(ディレクトリを含んでしまう)\n",
    "def find_all_xbrl(directory):\n",
    "    for root, dirs, files in os.walk(directory):\n",
    "        yield root\n",
    "        for file in files:\n",
    "            if fnmatch.fnmatch(file, '*.xbrl'):\n",
    "                yield os.path.join(root, file)"
   ]
  },
  {
   "cell_type": "code",
   "execution_count": 43,
   "metadata": {
    "scrolled": true
   },
   "outputs": [],
   "source": [
    "# 全ファイルパスを取得\n",
    "all_file_path = []\n",
    "for f in find_all_xbrl(\"..\\extracted_xbrl\"):\n",
    "    all_file_path.append(f)"
   ]
  },
  {
   "cell_type": "code",
   "execution_count": 44,
   "metadata": {},
   "outputs": [
    {
     "name": "stdout",
     "output_type": "stream",
     "text": [
      "533\n"
     ]
    }
   ],
   "source": [
    "# xbrl形式の入るパスのみ取得\n",
    "xbrl_file_path = []\n",
    "for i in all_file_path:\n",
    "    # PublicDoc内のxbrlファイルはasrという文字列を含む\n",
    "    if fnmatch.fnmatch(i, '*asr*.xbrl'):\n",
    "        xbrl_file_path.append(i)\n",
    "print(len(xbrl_file_path))"
   ]
  },
  {
   "cell_type": "code",
   "execution_count": 45,
   "metadata": {},
   "outputs": [],
   "source": [
    "# パーサの初期化\n",
    "parser = EdinetXbrlParser()"
   ]
  },
  {
   "cell_type": "code",
   "execution_count": 46,
   "metadata": {},
   "outputs": [],
   "source": [
    "# xbrlファイルを取得してpythonで扱えるオブジェクトに格納\n",
    "edinet_xbrl_obj = parser.parse_file(xbrl_file_path[0])"
   ]
  },
  {
   "cell_type": "code",
   "execution_count": 55,
   "metadata": {},
   "outputs": [
    {
     "name": "stdout",
     "output_type": "stream",
     "text": [
      "..\\extracted_xbrl\\Xbrl_Search_20181129_112233\\S100D0OG\\XBRL\\PublicDoc\\jpcrp030000-asr-001_E33794-000_2018-03-31_01_2018-06-28.xbrl\n",
      "Company: 神戸天然物化学株式会社\n"
     ]
    }
   ],
   "source": [
    "# 企業名を取得\n",
    "print(xbrl_file_path[0])\n",
    "key = \"jpcrp_cor:CompanyNameCoverPage\"\n",
    "context_ref = \"FilingDateInstant\"\n",
    "company_name = edinet_xbrl_obj.get_data_by_context_ref(key, context_ref).get_value()\n",
    "print(\"Company: \" + company_name)"
   ]
  },
  {
   "cell_type": "code",
   "execution_count": 56,
   "metadata": {},
   "outputs": [
    {
     "name": "stdout",
     "output_type": "stream",
     "text": [
      "Assets: 12768925000 JPN\n"
     ]
    }
   ],
   "source": [
    "# 総資産を取得\n",
    "key = \"jppfs_cor:Assets\"\n",
    "context_ref = \"CurrentYearInstant_NonConsolidatedMember\"\n",
    "current_year_assets = edinet_xbrl_obj.get_data_by_context_ref(key, context_ref).get_value()\n",
    "print(\"Assets: \" + current_year_assets + \" JPN\")"
   ]
  },
  {
   "cell_type": "code",
   "execution_count": 58,
   "metadata": {},
   "outputs": [
    {
     "name": "stdout",
     "output_type": "stream",
     "text": [
      "Sales: 6312682000 JPN\n"
     ]
    }
   ],
   "source": [
    "# 売上高を取得\n",
    "key = \"jpcrp_cor:NetSalesSummaryOfBusinessResults\"\n",
    "context_ref = \"CurrentYearDuration_NonConsolidatedMember\"\n",
    "current_year_duration = edinet_xbrl_obj.get_data_by_context_ref(key, context_ref).get_value()\n",
    "print(\"Sales: \" + current_year_duration + \" JPN\")"
   ]
  },
  {
   "cell_type": "code",
   "execution_count": 68,
   "metadata": {},
   "outputs": [
    {
     "name": "stdout",
     "output_type": "stream",
     "text": [
      "..\\extracted_xbrl\\Xbrl_Search_20181129_112233\\S100D0OG\\XBRL\\PublicDoc\\jpcrp030000-asr-001_E33794-000_2018-03-31_01_2018-06-28.xbrl\n",
      "..\\extracted_xbrl\\Xbrl_Search_20181129_112233\\S100D2LN\\XBRL\\PublicDoc\\jpcrp030000-asr-001_E00544-000_2018-03-31_01_2018-06-28.xbrl\n",
      "..\\extracted_xbrl\\Xbrl_Search_20181129_112233\\S100D9QA\\XBRL\\PublicDoc\\jpcrp030000-asr-001_E30909-000_2018-03-31_01_2018-06-29.xbrl\n",
      "..\\extracted_xbrl\\Xbrl_Search_20181129_112233\\S100DA3W\\XBRL\\PublicDoc\\jpcrp030000-asr-001_E00899-000_2018-03-31_01_2018-06-28.xbrl\n",
      "..\\extracted_xbrl\\Xbrl_Search_20181129_112233\\S100DAVV\\XBRL\\PublicDoc\\jpcrp030000-asr-001_E00755-000_2018-03-31_01_2018-06-29.xbrl\n",
      "..\\extracted_xbrl\\Xbrl_Search_20181129_112233\\S100DCEY\\XBRL\\PublicDoc\\jpcrp030000-asr-001_E00558-000_2018-03-31_01_2018-06-29.xbrl\n",
      "..\\extracted_xbrl\\Xbrl_Search_20181129_112233\\S100DCOS\\XBRL\\PublicDoc\\jpcrp030000-asr-001_E00563-000_2018-03-31_01_2018-06-29.xbrl\n",
      "..\\extracted_xbrl\\Xbrl_Search_20181129_112233\\S100DCYU\\XBRL\\PublicDoc\\jpcrp030000-asr-001_E32204-000_2018-03-31_01_2018-06-29.xbrl\n",
      "..\\extracted_xbrl\\Xbrl_Search_20181129_112233\\S100DDES\\XBRL\\PublicDoc\\jpcrp030000-asr-001_E00659-000_2018-03-31_01_2018-06-29.xbrl\n",
      "..\\extracted_xbrl\\Xbrl_Search_20181129_112233\\S100DDHH\\XBRL\\PublicDoc\\jpcrp030000-asr-001_E00844-000_2018-03-31_01_2018-06-29.xbrl\n",
      "..\\extracted_xbrl\\Xbrl_Search_20181129_112233\\S100DDX6\\XBRL\\PublicDoc\\jpcrp030000-asr-001_E00612-000_2018-03-31_01_2018-06-29.xbrl\n",
      "..\\extracted_xbrl\\Xbrl_Search_20181129_112233\\S100DDZR\\XBRL\\PublicDoc\\jpcrp030000-asr-001_E25678-000_2018-03-31_01_2018-06-28.xbrl\n",
      "..\\extracted_xbrl\\Xbrl_Search_20181129_112233\\S100DE0B\\XBRL\\PublicDoc\\jpcrp030000-asr-001_E00753-000_2018-03-31_01_2018-06-28.xbrl\n"
     ]
    },
    {
     "ename": "TypeError",
     "evalue": "int() argument must be a string, a bytes-like object or a number, not 'NoneType'",
     "output_type": "error",
     "traceback": [
      "\u001b[1;31m---------------------------------------------------------------------------\u001b[0m",
      "\u001b[1;31mTypeError\u001b[0m                                 Traceback (most recent call last)",
      "\u001b[1;32m<ipython-input-68-fb39a50d3863>\u001b[0m in \u001b[0;36m<module>\u001b[1;34m()\u001b[0m\n\u001b[0;32m     24\u001b[0m \u001b[1;33m\u001b[0m\u001b[0m\n\u001b[0;32m     25\u001b[0m     \u001b[1;31m# 1000億円以上の売上ならリストに追加\u001b[0m\u001b[1;33m\u001b[0m\u001b[1;33m\u001b[0m\u001b[0m\n\u001b[1;32m---> 26\u001b[1;33m     \u001b[1;32mif\u001b[0m \u001b[0mint\u001b[0m\u001b[1;33m(\u001b[0m\u001b[0msales\u001b[0m\u001b[1;33m)\u001b[0m \u001b[1;33m>=\u001b[0m \u001b[1;36m100000000000\u001b[0m\u001b[1;33m:\u001b[0m\u001b[1;33m\u001b[0m\u001b[0m\n\u001b[0m\u001b[0;32m     27\u001b[0m         \u001b[0mcompany\u001b[0m \u001b[1;33m=\u001b[0m \u001b[0medinet_xbrl_obj\u001b[0m\u001b[1;33m.\u001b[0m\u001b[0mget_data_by_context_ref\u001b[0m\u001b[1;33m(\u001b[0m\u001b[0mcompany_key\u001b[0m\u001b[1;33m,\u001b[0m \u001b[0mcompany_context_ref\u001b[0m\u001b[1;33m)\u001b[0m\u001b[1;33m.\u001b[0m\u001b[0mget_value\u001b[0m\u001b[1;33m(\u001b[0m\u001b[1;33m)\u001b[0m\u001b[1;33m\u001b[0m\u001b[0m\n\u001b[0;32m     28\u001b[0m         \u001b[0mtarget_company\u001b[0m\u001b[1;33m.\u001b[0m\u001b[0mappend\u001b[0m\u001b[1;33m(\u001b[0m\u001b[0mcompany\u001b[0m\u001b[1;33m)\u001b[0m\u001b[1;33m\u001b[0m\u001b[0m\n",
      "\u001b[1;31mTypeError\u001b[0m: int() argument must be a string, a bytes-like object or a number, not 'NoneType'"
     ]
    }
   ],
   "source": [
    "# 売上が1000億円以上の企業を取得\n",
    "target_company = []\n",
    "target_sales = []\n",
    "\n",
    "sales_context_ref = \"CurrentYearDuration_NonConsolidatedMember\" # 単体情報(親会社のみ)\n",
    "\n",
    "company_key = \"jpcrp_cor:CompanyNameCoverPage\"\n",
    "company_context_ref = \"FilingDateInstant\"\n",
    "\n",
    "for i in xbrl_file_path:\n",
    "    print(i)\n",
    "    sales_key = \"jpcrp_cor:NetSalesSummaryOfBusinessResults\"\n",
    "    \n",
    "    # 指定オブジェクトの取得\n",
    "    edinet_xbrl_obj = parser.parse_file(i)\n",
    "    sales = edinet_xbrl_obj.get_data_by_context_ref(sales_key, sales_context_ref)\n",
    "    \n",
    "    # 売上高が存在しないなら，営業収益を取得\n",
    "    if sales is None:\n",
    "        sales_key = \"jpcrp_cor:OperatingRevenue1SummaryOfBusinessResults\"\n",
    "        sales = edinet_xbrl_obj.get_data_by_context_ref(sales_key, sales_context_ref)\n",
    "    \n",
    "    sales = sales.get_value()\n",
    "    \n",
    "    # 1000億円以上の売上ならリストに追加\n",
    "    if int(sales) >= 100000000000:\n",
    "        company = edinet_xbrl_obj.get_data_by_context_ref(company_key, company_context_ref).get_value()\n",
    "        target_company.append(company)\n",
    "        target_sales.append(sales)\n",
    "\n",
    "print(target_company)"
   ]
  },
  {
   "cell_type": "code",
   "execution_count": 63,
   "metadata": {},
   "outputs": [
    {
     "data": {
      "text/plain": [
       "NoneType"
      ]
     },
     "execution_count": 63,
     "metadata": {},
     "output_type": "execute_result"
    }
   ],
   "source": [
    "edinet_xbrl_obj = parser.parse_file(xbrl_file_path[7])\n",
    "sales = edinet_xbrl_obj.get_data_by_context_ref(sales_key, sales_context_ref)\n",
    "type(sales)"
   ]
  },
  {
   "cell_type": "code",
   "execution_count": null,
   "metadata": {},
   "outputs": [],
   "source": []
  }
 ],
 "metadata": {
  "kernelspec": {
   "display_name": "Python 3",
   "language": "python",
   "name": "python3"
  },
  "language_info": {
   "codemirror_mode": {
    "name": "ipython",
    "version": 3
   },
   "file_extension": ".py",
   "mimetype": "text/x-python",
   "name": "python",
   "nbconvert_exporter": "python",
   "pygments_lexer": "ipython3",
   "version": "3.5.5"
  },
  "widgets": {
   "state": {},
   "version": "1.1.2"
  }
 },
 "nbformat": 4,
 "nbformat_minor": 2
}
