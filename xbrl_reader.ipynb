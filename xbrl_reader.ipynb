{
 "cells": [
  {
   "cell_type": "markdown",
   "metadata": {},
   "source": [
    "# メモ書き\n",
    "## key(項目)\n",
    "### jpcrp_cor:CompanyNameCoverPage\n",
    "企業名\n",
    "### jppfs_cor:Assets\n",
    "総資産\n",
    "### jpcrp_cor:NetSalesSummaryOfBusinessResults\n",
    "売上高:製品や商品など有形物を販売する場合\n",
    "### jpcrp_cor:OperatingRevenue1SummaryOfBusinessResults\n",
    "営業収益:無形のサービスや手数料などを提供した場合\n",
    "### 例外(jpcrp030000-asr_E\\*\\*\\*\\*\\*-***:NAME)\n",
    "定義済みではない個社毎に独自に開示しているデータ，E\\*\\*\\*\\*\\* は会社番号でNAMEに項目名が入る．  \n",
    "asrはPublicDoc内の.xbrlファイル名に含まれる謎の文字列\n",
    "\n",
    "## context_ref(詳細)\n",
    "### FilingDateInstant\n",
    "企業名のコンテキスト(詳細不明)\n",
    "### CurrentYearInstant_NonConsolidatedMember\n",
    "CurrentYearInstant:今年度  \n",
    "NonConsolidatedMember:単体情報(親会社-持ち株会社のみ) ，ない場合は連結情報（子会社含む，ホールディングスと名前につくことが多い）  \n",
    "Instantは総資産のみに使われていると思われる\n",
    "#### CurrentYearDuration_NonConsolidatedMember\n",
    "Duration:期間 は 代n期を示す  \n",
    "Current:今期, Prior1:前期, Prior2:前々期, 以降さかのぼるごとにPriorに続く数値が増える"
   ]
  },
  {
   "cell_type": "code",
   "execution_count": 1,
   "metadata": {},
   "outputs": [],
   "source": [
    "#!usr/bin/env python3\n",
    "# -*- coding: utf-8 -*-"
   ]
  },
  {
   "cell_type": "code",
   "execution_count": 241,
   "metadata": {},
   "outputs": [],
   "source": [
    "from edinet_xbrl.edinet_xbrl_parser import EdinetXbrlParser\n",
    "from bs4 import BeautifulSoup\n",
    "import fnmatch\n",
    "import csv\n",
    "import os\n",
    "import re"
   ]
  },
  {
   "cell_type": "code",
   "execution_count": 242,
   "metadata": {},
   "outputs": [],
   "source": [
    "# 全xbrlファイルパスを取得する(ディレクトリを含んでしまう)\n",
    "def find_all_xbrl(directory):\n",
    "    for root, dirs, files in os.walk(directory):\n",
    "        yield root\n",
    "        for file in files:\n",
    "            if fnmatch.fnmatch(file, '*.xbrl'):\n",
    "                yield os.path.join(root, file)"
   ]
  },
  {
   "cell_type": "code",
   "execution_count": 243,
   "metadata": {
    "scrolled": true
   },
   "outputs": [],
   "source": [
    "# 全ファイルパスを取得\n",
    "all_file_path = []\n",
    "for f in find_all_xbrl(\"..\\extracted_xbrl\"):\n",
    "    all_file_path.append(f)"
   ]
  },
  {
   "cell_type": "code",
   "execution_count": 244,
   "metadata": {},
   "outputs": [
    {
     "name": "stdout",
     "output_type": "stream",
     "text": [
      "get 533 file paths\n"
     ]
    }
   ],
   "source": [
    "# xbrl形式の入るパスのみ取得\n",
    "xbrl_file_path = []\n",
    "for i in all_file_path:\n",
    "    # PublicDoc内のxbrlファイルはasrという文字列を含む\n",
    "    if fnmatch.fnmatch(i, '*asr*.xbrl'):\n",
    "        xbrl_file_path.append(i)\n",
    "print(\"get \" + str(len(xbrl_file_path)) + \" file paths\")"
   ]
  },
  {
   "cell_type": "code",
   "execution_count": 245,
   "metadata": {},
   "outputs": [],
   "source": [
    "# パーサの初期化\n",
    "parser = EdinetXbrlParser()"
   ]
  },
  {
   "cell_type": "code",
   "execution_count": 527,
   "metadata": {},
   "outputs": [],
   "source": [
    "# xbrlファイルを取得してpythonで扱えるオブジェクトに格納\n",
    "# 8レンゴー 18日本新薬 19日本コークス 20ツムラ 24カネカ 240住友理工 246東レ 322小林製薬 328東洋ゴム\n",
    "edinet_xbrl_obj = parser.parse_file(xbrl_file_path[328]) "
   ]
  },
  {
   "cell_type": "code",
   "execution_count": 528,
   "metadata": {},
   "outputs": [
    {
     "name": "stdout",
     "output_type": "stream",
     "text": [
      "..\\extracted_xbrl\\Xbrl_Search_20181129_114356\\S100D9YD\\XBRL\\PublicDoc\\jpcrp030000-asr-001_E00873-000_2018-03-31_01_2018-06-26.xbrl\n",
      "Company: 東洋ゴム工業株式会社\n"
     ]
    }
   ],
   "source": [
    "# 企業名を取得\n",
    "print(xbrl_file_path[246])\n",
    "key = \"jpcrp_cor:CompanyNameCoverPage\"\n",
    "context_ref = \"FilingDateInstant\"\n",
    "company_name = edinet_xbrl_obj.get_data_by_context_ref(key, context_ref).get_value()\n",
    "print(\"Company: \" + company_name)"
   ]
  },
  {
   "cell_type": "code",
   "execution_count": 234,
   "metadata": {},
   "outputs": [
    {
     "name": "stdout",
     "output_type": "stream",
     "text": [
      "..\\extracted_xbrl\\Xbrl_Search_20181129_114356\\S100D9YD\\XBRL\\PublicDoc\\jpcrp030000-asr-001_E00873-000_2018-03-31_01_2018-06-26.xbrl\n",
      "tangivleFixedAssets: \n",
      "<p class=\"smt_text2\" style=\"text-align:justify;padding-left:9pt;padding-right:0pt;margin-top:0pt;margin-bottom:0pt;text-indent:9pt;font-family:&apos;ＭＳ 明朝&apos;;letter-spacing:0pt;line-height:15pt;\"><br/>(2) 有形固定資産</p>\n",
      "<div class=\"tbld\" style=\"margin-left:0pt;margin-right:0pt;margin-top:0pt;margin-bottom:0pt;\">\n",
      "<table cellspacing=\"0\" cellpadding=\"0\" style=\"border-collapse:collapse;border:solid 0pt #000000;width:468pt;\">\n",
      "<colgroup>\n",
      "<col style=\"width:78pt;min-width:78pt;\"/>\n",
      "<col style=\"width:78pt;min-width:78pt;\"/>\n",
      "<col style=\"width:78pt;min-width:78pt;\"/>\n",
      "<col style=\"width:78pt;min-width:78pt;\"/>\n",
      "<col style=\"width:78pt;min-width:78pt;\"/>\n",
      "<col style=\"width:78pt;min-width:78pt;\"/>\n",
      "</colgroup>\n",
      "<tr style=\"height:9.8pt\">\n",
      "<td valign=\"bottom\" style=\"vertical-align:bottom;border-bottom-style:solid;border-bottom-width:0.75pt;\">\n",
      "<p class=\"smt_tblC\"> </p>\n",
      "</td>\n",
      "<td valign=\"bottom\" style=\"vertical-align:bottom;border-top-color:#a9a9a9;border-bottom-style:solid;border-bottom-width:0.75pt;border-left-color:#a9a9a9;border-right-color:#a9a9a9;\">\n",
      "<p class=\"smt_tblC\"> </p>\n",
      "</td>\n",
      "<td valign=\"bottom\" style=\"vertical-align:bottom;border-top-color:#a9a9a9;border-bottom-style:solid;border-bottom-width:0.75pt;border-left-color:#a9a9a9;border-right-color:#a9a9a9;\">\n",
      "<p class=\"smt_tblC\"> </p>\n",
      "</td>\n",
      "<td valign=\"bottom\" style=\"vertical-align:bottom;border-top-color:#a9a9a9;border-bottom-style:solid;border-bottom-width:0.75pt;border-left-color:#a9a9a9;border-right-color:#a9a9a9;\">\n",
      "<p class=\"smt_tblC\"> </p>\n",
      "</td>\n",
      "<td valign=\"bottom\" style=\"vertical-align:bottom;border-top-color:#a9a9a9;border-bottom-style:solid;border-bottom-width:0.75pt;border-left-color:#a9a9a9;border-right-color:#a9a9a9;\">\n",
      "<p class=\"smt_tblC\"> </p>\n",
      "</td>\n",
      "<td valign=\"bottom\" style=\"vertical-align:bottom;border-bottom-style:solid;border-bottom-width:0.75pt;\">\n",
      "<p class=\"smt_tblR\" style=\"padding-right:9.1pt;\">(単位：百万円)</p>\n",
      "</td>\n",
      "</tr>\n",
      "<tr style=\"height:15pt\">\n",
      "<td valign=\"middle\" rowspan=\"2\" style=\"vertical-align:middle;border-top-style:solid;border-top-width:0.75pt;border-bottom-style:solid;border-bottom-width:0.75pt;border-left-style:solid;border-left-width:0.75pt;border-right-style:solid;border-right-width:0.75pt;\">\n",
      "<p class=\"smt_tblC\">日本</p>\n",
      "</td>\n",
      "<td valign=\"middle\" colspan=\"2\" style=\"vertical-align:middle;border-top-style:solid;border-top-width:0.75pt;border-bottom-style:solid;border-bottom-width:0.75pt;border-left-style:solid;border-left-width:0.75pt;border-right-style:solid;border-right-width:0.75pt;\">\n",
      "<p class=\"smt_tblC\">アジア</p>\n",
      "</td>\n",
      "<td valign=\"middle\" rowspan=\"2\" style=\"vertical-align:middle;border-top-style:solid;border-top-width:0.75pt;border-bottom-style:solid;border-bottom-width:0.75pt;border-left-style:solid;border-left-width:0.75pt;border-right-style:solid;border-right-width:0.75pt;\">\n",
      "<p class=\"smt_tblC\">北米</p>\n",
      "</td>\n",
      "<td valign=\"middle\" rowspan=\"2\" style=\"vertical-align:middle;border-top-style:solid;border-top-width:0.75pt;border-bottom-style:solid;border-bottom-width:0.75pt;border-left-style:solid;border-left-width:0.75pt;border-right-style:solid;border-right-width:0.75pt;\">\n",
      "<p class=\"smt_tblC\">欧州</p>\n",
      "</td>\n",
      "<td valign=\"middle\" rowspan=\"2\" style=\"vertical-align:middle;border-top-style:solid;border-top-width:0.75pt;border-bottom-style:solid;border-bottom-width:0.75pt;border-left-style:solid;border-left-width:0.75pt;border-right-style:solid;border-right-width:0.75pt;\">\n",
      "<p class=\"smt_tblC\">合計</p>\n",
      "</td>\n",
      "</tr>\n",
      "<tr style=\"height:15pt\">\n",
      "<td valign=\"middle\" style=\"vertical-align:middle;border-top-style:solid;border-top-width:0.75pt;border-bottom-style:solid;border-bottom-width:0.75pt;border-left-style:solid;border-left-width:0.75pt;border-right-style:solid;border-right-width:0.75pt;\">\n",
      "<p class=\"smt_tblC\">マレーシア</p>\n",
      "</td>\n",
      "<td valign=\"middle\" style=\"vertical-align:middle;border-top-style:solid;border-top-width:0.75pt;border-bottom-style:solid;border-bottom-width:0.75pt;border-left-style:solid;border-left-width:0.75pt;border-right-style:solid;border-right-width:0.75pt;\">\n",
      "<p class=\"smt_tblC\">その他</p>\n",
      "</td>\n",
      "</tr>\n",
      "<tr style=\"height:22.5pt\">\n",
      "<td valign=\"middle\" style=\"vertical-align:middle;border-top-style:solid;border-top-width:0.75pt;border-bottom-style:solid;border-bottom-width:0.75pt;border-left-style:solid;border-left-width:0.75pt;border-right-style:solid;border-right-width:0.75pt;\">\n",
      "<p class=\"smt_tblR\">166,858</p>\n",
      "</td>\n",
      "<td valign=\"middle\" style=\"vertical-align:middle;border-top-style:solid;border-top-width:0.75pt;border-bottom-style:solid;border-bottom-width:0.75pt;border-left-style:solid;border-left-width:0.75pt;border-right-style:solid;border-right-width:0.75pt;\">\n",
      "<p class=\"smt_tblR\">29,920</p>\n",
      "</td>\n",
      "<td valign=\"middle\" style=\"vertical-align:middle;border-top-style:solid;border-top-width:0.75pt;border-bottom-style:solid;border-bottom-width:0.75pt;border-left-style:solid;border-left-width:0.75pt;border-right-style:solid;border-right-width:0.75pt;\">\n",
      "<p class=\"smt_tblR\">8,432</p>\n",
      "</td>\n",
      "<td valign=\"middle\" style=\"vertical-align:middle;border-top-style:solid;border-top-width:0.75pt;border-bottom-style:solid;border-bottom-width:0.75pt;border-left-style:solid;border-left-width:0.75pt;border-right-style:solid;border-right-width:0.75pt;\">\n",
      "<p class=\"smt_tblR\">18,125</p>\n",
      "</td>\n",
      "<td valign=\"middle\" style=\"vertical-align:middle;border-top-style:solid;border-top-width:0.75pt;border-bottom-style:solid;border-bottom-width:0.75pt;border-left-style:solid;border-left-width:0.75pt;border-right-style:solid;border-right-width:0.75pt;\">\n",
      "<p class=\"smt_tblR\">14,137</p>\n",
      "</td>\n",
      "<td valign=\"middle\" style=\"vertical-align:middle;border-top-style:solid;border-top-width:0.75pt;border-bottom-style:solid;border-bottom-width:0.75pt;border-left-style:solid;border-left-width:0.75pt;border-right-style:solid;border-right-width:0.75pt;\">\n",
      "<p class=\"smt_tblR\">237,475</p>\n",
      "</td>\n",
      "</tr>\n",
      "</table>\n",
      "<p style=\"clear:both; line-height:0.75pt; width:100%; font-size:0.75pt;\"> </p>\n",
      "</div>\n",
      "<p class=\"smt_text6\"> </p>\n"
     ]
    },
    {
     "data": {
      "text/plain": [
       "bs4.element.NavigableString"
      ]
     },
     "execution_count": 234,
     "metadata": {},
     "output_type": "execute_result"
    }
   ],
   "source": [
    "# 今年度の有形固定資産を取得\n",
    "print(xbrl_file_path[246])\n",
    "key = \"jpcrp_cor:PropertyPlantAndEquipmentInformationForEachRegionTextBlock\"\n",
    "context_ref = \"CurrentYearDuration\"\n",
    "tangivleFixedAssets = edinet_xbrl_obj.get_data_by_context_ref(key, context_ref).get_value()\n",
    "print(\"tangivleFixedAssets: \" + tangivleFixedAssets)\n",
    "type(tangivleFixedAssets)"
   ]
  },
  {
   "cell_type": "code",
   "execution_count": 47,
   "metadata": {},
   "outputs": [
    {
     "name": "stdout",
     "output_type": "stream",
     "text": [
      "日本(百万円)\n",
      "アジア\n",
      "欧米他\n",
      "合計(百万円)\n",
      "韓国(百万円)\n",
      "その他(百万円)\n",
      "米国(百万円)\n",
      "欧州他(百万円)\n"
     ]
    },
    {
     "name": "stderr",
     "output_type": "stream",
     "text": [
      "C:\\Anaconda3\\lib\\site-packages\\bs4\\__init__.py:181: UserWarning: No parser was explicitly specified, so I'm using the best available HTML parser for this system (\"lxml\"). This usually isn't a problem, but if you run this code on another system, or in a different virtual environment, it may use a different parser and behave differently.\n",
      "\n",
      "The code that caused this warning is on line 193 of the file C:\\Anaconda3\\lib\\runpy.py. To get rid of this warning, change code that looks like this:\n",
      "\n",
      " BeautifulSoup(YOUR_MARKUP})\n",
      "\n",
      "to this:\n",
      "\n",
      " BeautifulSoup(YOUR_MARKUP, \"lxml\")\n",
      "\n",
      "  markup_type=markup_type))\n"
     ]
    }
   ],
   "source": [
    "# 邪魔な<br/>タグを除去\n",
    "tangivleFixedAssets = str(kaigai).replace(\"<br/>\", \"\")\n",
    "\n",
    "# 有形固定資産の該当箇所の抽出\n",
    "soup = BeautifulSoup(tangivleFixedAssets)\n",
    "fixedAssetsList = soup.find_all(\"p\", class_=\"smt_tblC\")\n",
    "for i in fixedAssetsList:\n",
    "    print(i.string)"
   ]
  },
  {
   "cell_type": "code",
   "execution_count": 56,
   "metadata": {},
   "outputs": [
    {
     "name": "stdout",
     "output_type": "stream",
     "text": [
      "Assets: 12768925000 JPN\n"
     ]
    }
   ],
   "source": [
    "# 総資産を取得\n",
    "key = \"jppfs_cor:Assets\"\n",
    "context_ref = \"CurrentYearInstant_NonConsolidatedMember\"\n",
    "current_year_assets = edinet_xbrl_obj.get_data_by_context_ref(key, context_ref).get_value()\n",
    "print(\"Assets: \" + current_year_assets + \" JPN\")"
   ]
  },
  {
   "cell_type": "code",
   "execution_count": 58,
   "metadata": {},
   "outputs": [
    {
     "name": "stdout",
     "output_type": "stream",
     "text": [
      "Sales: 6312682000 JPN\n"
     ]
    }
   ],
   "source": [
    "# 売上高を取得\n",
    "key = \"jpcrp_cor:NetSalesSummaryOfBusinessResults\"\n",
    "context_ref = \"CurrentYearDuration_NonConsolidatedMember\"\n",
    "current_year_duration = edinet_xbrl_obj.get_data_by_context_ref(key, context_ref).get_value()\n",
    "print(\"Sales: \" + current_year_duration + \" JPN\")"
   ]
  },
  {
   "cell_type": "code",
   "execution_count": 248,
   "metadata": {},
   "outputs": [
    {
     "name": "stdout",
     "output_type": "stream",
     "text": [
      "Address: 大阪市北区中之島二丁目３番18号\n"
     ]
    }
   ],
   "source": [
    "# 本社住所を取得\n",
    "address_key = \"jpcrp_cor:AddressOfRegisteredHeadquarterCoverPage\"\n",
    "address_context_ref = \"FilingDateInstant\"\n",
    "address = edinet_xbrl_obj.get_data_by_context_ref(address_key, address_context_ref).get_value()\n",
    "print(\"Address: \" + address)"
   ]
  },
  {
   "cell_type": "code",
   "execution_count": 235,
   "metadata": {},
   "outputs": [
    {
     "name": "stdout",
     "output_type": "stream",
     "text": [
      "['http://www.asahi-kasei.co.jp/']\n"
     ]
    }
   ],
   "source": [
    "# URLテスト用\n",
    "test = \"わが社のホームページはhttp://www.toray.co.jp/hogeである\"\n",
    "res = re.findall(\"https?://[\\w:%#\\$&\\?\\(\\)~\\.=\\+\\-]+/\", test)\n",
    "print(res)"
   ]
  },
  {
   "cell_type": "code",
   "execution_count": 341,
   "metadata": {},
   "outputs": [
    {
     "name": "stdout",
     "output_type": "stream",
     "text": [
      "[]\n"
     ]
    },
    {
     "name": "stderr",
     "output_type": "stream",
     "text": [
      "C:\\Anaconda3\\lib\\site-packages\\bs4\\__init__.py:181: UserWarning: No parser was explicitly specified, so I'm using the best available HTML parser for this system (\"lxml\"). This usually isn't a problem, but if you run this code on another system, or in a different virtual environment, it may use a different parser and behave differently.\n",
      "\n",
      "The code that caused this warning is on line 193 of the file C:\\Anaconda3\\lib\\runpy.py. To get rid of this warning, change code that looks like this:\n",
      "\n",
      " BeautifulSoup(YOUR_MARKUP})\n",
      "\n",
      "to this:\n",
      "\n",
      " BeautifulSoup(YOUR_MARKUP, \"lxml\")\n",
      "\n",
      "  markup_type=markup_type))\n"
     ]
    }
   ],
   "source": [
    "# 企業のホームページURLを取得\n",
    "url_list = []\n",
    "url_key = \"jpcrp_cor:ExplanationAboutCorporateGovernanceTextBlock\"\n",
    "url_context_ref = \"FilingDateInstant\"\n",
    "\n",
    "corporate_governance = edinet_xbrl_obj.get_data_by_context_ref(url_key, url_context_ref).get_value()\n",
    "soup = BeautifulSoup(str(corporate_governance).replace(\"<br/>\", \"\"))\n",
    "url_tags = str(soup.find_all(\"p\", class_=\"smt_text4\"))\n",
    "\n",
    "url = re.findall(\"https?://[\\w:%#\\$&\\?\\(\\)~\\.=\\+\\-]+/\", url_tags)\n",
    "# for i in range(len(url)):\n",
    "#     if url[i] is not None:\n",
    "#         url_list.append(url[i])\n",
    "\n",
    "print(url)"
   ]
  },
  {
   "cell_type": "code",
   "execution_count": 529,
   "metadata": {},
   "outputs": [
    {
     "name": "stdout",
     "output_type": "stream",
     "text": [
      "なし\n",
      "なし\n",
      "なし\n",
      "なし\n",
      "なし\n",
      "なし\n",
      "あり\n",
      "なし\n",
      "なし\n",
      "あり\n",
      "なし\n",
      "なし\n",
      "なし\n",
      "[<p class=\"smt_tblC\"> </p>, <p class=\"smt_tblC\"> </p>, <p class=\"smt_tblC\"> </p>, <p class=\"smt_tblC\"> </p>, <p class=\"smt_tblC\"> </p>, <p class=\"smt_tblC\">日本</p>, <p class=\"smt_tblC\">北米</p>, <p class=\"smt_tblC\">その他</p>, <p class=\"smt_tblC\">合計</p>, <p class=\"smt_tblC\">米国</p>, <p class=\"smt_tblC\">その他</p>, <p class=\"smt_tblC\">マレーシア</p>, <p class=\"smt_tblC\">その他</p>]\n"
     ]
    },
    {
     "name": "stderr",
     "output_type": "stream",
     "text": [
      "C:\\Anaconda3\\lib\\site-packages\\bs4\\__init__.py:181: UserWarning: No parser was explicitly specified, so I'm using the best available HTML parser for this system (\"lxml\"). This usually isn't a problem, but if you run this code on another system, or in a different virtual environment, it may use a different parser and behave differently.\n",
      "\n",
      "The code that caused this warning is on line 193 of the file C:\\Anaconda3\\lib\\runpy.py. To get rid of this warning, change code that looks like this:\n",
      "\n",
      " BeautifulSoup(YOUR_MARKUP})\n",
      "\n",
      "to this:\n",
      "\n",
      " BeautifulSoup(YOUR_MARKUP, \"lxml\")\n",
      "\n",
      "  markup_type=markup_type))\n"
     ]
    }
   ],
   "source": [
    "tfa_key = \"jpcrp_cor:PropertyPlantAndEquipmentInformationForEachRegionTextBlock\"\n",
    "tfa_context_ref = \"CurrentYearDuration\"\n",
    "tangivleFixedAssets = edinet_xbrl_obj.get_data_by_context_ref(tfa_key, tfa_context_ref)\n",
    "\n",
    "if (tangivleFixedAssets is None):\n",
    "    print(\"pass\")\n",
    "    pass\n",
    "else:\n",
    "    tangivleFixedAssets = tangivleFixedAssets.get_value()\n",
    "\n",
    "    # 邪魔な<br/>タグを除去して，有形固定資産の該当箇所の抽出\n",
    "    soup = BeautifulSoup(str(tangivleFixedAssets).replace(\"<br/>\", \"\"))\n",
    "    fixedAssetsList = soup.find_all(\"p\", class_=\"smt_tblC\")\n",
    "    for i in fixedAssetsList:\n",
    "        if fnmatch.fnmatch(i.string, '*米国*') or fnmatch.fnmatch(i.string, '*北米*'):\n",
    "            print(\"あり\")\n",
    "        else:\n",
    "            print(\"なし\")\n",
    "print(fixedAssetsList)"
   ]
  },
  {
   "cell_type": "code",
   "execution_count": 534,
   "metadata": {},
   "outputs": [
    {
     "name": "stderr",
     "output_type": "stream",
     "text": [
      "C:\\Anaconda3\\lib\\site-packages\\bs4\\__init__.py:181: UserWarning: No parser was explicitly specified, so I'm using the best available HTML parser for this system (\"lxml\"). This usually isn't a problem, but if you run this code on another system, or in a different virtual environment, it may use a different parser and behave differently.\n",
      "\n",
      "The code that caused this warning is on line 193 of the file C:\\Anaconda3\\lib\\runpy.py. To get rid of this warning, change code that looks like this:\n",
      "\n",
      " BeautifulSoup(YOUR_MARKUP})\n",
      "\n",
      "to this:\n",
      "\n",
      " BeautifulSoup(YOUR_MARKUP, \"lxml\")\n",
      "\n",
      "  markup_type=markup_type))\n"
     ]
    },
    {
     "name": "stdout",
     "output_type": "stream",
     "text": [
      "株式会社ツムラ\n",
      "宇部興産株式会社\n",
      "出光興産株式会社\n",
      "信越化学工業株式会社\n",
      "関西ペイント株式会社\n",
      "大王製紙株式会社\n",
      "出光興産株式会社\n",
      "積水化学工業株式会社\n",
      "日油株式会社\n",
      "富士石油株式会社\n",
      "日本ゼオン株式会社\n",
      "大日精化工業株式会社\n",
      "日本ゼオン株式会社\n",
      "アイカ工業株式会社\n",
      "株式会社ＡＤＥＫＡ\n",
      "三洋化成工業株式会社\n",
      "株式会社トクヤマ\n",
      "株式会社ダイセル\n",
      "三菱瓦斯化学株式会社\n",
      "三井化学株式会社\n",
      "小林製薬株式会社\n",
      "ＤＩＣ株式会社\n",
      "昭和電工株式会社\n",
      "小林製薬株式会社\n",
      "トヨタ紡織株式会社\n",
      "豊田合成株式会社\n",
      "帝人株式会社\n",
      "関西ペイント株式会社\n",
      "大王製紙株式会社\n",
      "信越化学工業株式会社\n",
      "株式会社ブリヂストン\n",
      "['レンゴー株式会社', '日本新薬株式会社', '日本コークス工業株式会社', '株式会社ツムラ', '株式会社カネカ', '宇部興産株式会社', '武田薬品工業株式会社', '日本製紙株式会社', '出光興産株式会社', '信越化学工業株式会社', '関西ペイント株式会社', '大王製紙株式会社', '日立化成株式会社', '出光興産株式会社', '日本コークス工業株式会社', '旭化成株式会社', 'エア・ウォーター株式会社', '積水化学工業株式会社', '日油株式会社', '株式会社エフピコ', '三菱製紙株式会社', '日本化薬株式会社', '北越紀州製紙株式会社', '日産化学工業株式会社', '富士石油株式会社', '東ソー株式会社', '日本ゼオン株式会社', '大日精化工業株式会社', '持田製薬株式会社', '株式会社コーセー', '日本ゼオン株式会社', 'アイカ工業株式会社', '株式会社ＡＤＥＫＡ', '日東電工株式会社', '住友理工株式会社', '東レ株式会社', '三洋化成工業株式会社', 'ダイキョーニシカワ株式会社', '田辺三菱製薬株式会社', '小野薬品工業株式会社', '株式会社トクヤマ', '株式会社ダイセル', 'ハリマ化成グループ株式会社', '三菱瓦斯化学株式会社', '東洋紡株式会社', 'グンゼ株式会社', '参天製薬株式会社', '沢井製薬株式会社', '三井化学株式会社', '小林製薬株式会社', '東洋ゴム工業株式会社', '横浜ゴム株式会社', 'ＤＩＣ株式会社', '昭和電工株式会社', 'ライオン株式会社', '住友ゴム工業株式会社', 'コクヨ株式会社', '小林製薬株式会社', '久光製薬株式会社', '大日本住友製薬株式会社', '株式会社日本触媒', '日医工株式会社', 'トヨタ紡織株式会社', '第一三共株式会社', 'アステラス製薬株式会社', '住友化学株式会社', 'イビデン株式会社', '大陽日酸株式会社', 'ＪＳＲ株式会社', 'コニカミノルタ株式会社', '豊田合成株式会社', 'エーザイ株式会社', '帝人株式会社', '塩野義製薬株式会社', 'デンカ株式会社', 'アステラス製薬株式会社', '関西ペイント株式会社', '大王製紙株式会社', '信越化学工業株式会社', '協和発酵キリン株式会社', 'ヒューリック株式会社', '中外製薬株式会社', '株式会社ブリヂストン', '株式会社資生堂', '株式会社クラレ', 'アース製薬株式会社', '花王株式会社', '昭和シェル石油株式会社', 'ユニ・チャーム株式会社', '株式会社クラレ', '中外製薬株式会社']\n",
      "['303406000000', '101221000000', '100472000000', '116230000000', '293016000000', '315241000000', '659462000000', '611735000000', '2746981000000', '733449000000', '151983000000', '390460000000', '374352000000', '2746981000000', '100472000000', '621875000000', '167782000000', '356785000000', '125333000000', '139840000000', '118445000000', '102150000000', '176245000000', '147319000000', '416857000000', '585195000000', '219002000000', '125960000000', '100528000000', '135893000000', '219002000000', '105513000000', '131319000000', '519000000000', '175064000000', '591664000000', '103902000000', '136006000000', '414957000000', '260223000000', '188501000000', '239638000000', '3040750000000', '364433000000', '202877000000', '107660000000', '171872000000', '134178000000', '676037000000', '133522000000', '218678000000', '331560000000', '232045000000', '524708000000', '264280000000', '461538000000', '167214000000', '133522000000', '112391000000', '251101000000', '226887000000', '150642000000', '721798000000', '630954000000', '613657000000', '708362000000', '128869000000', '213909000000', '240576000000', '436157000000', '376845000000', '334051000000', '116825000000', '315941000000', '237833000000', '613657000000', '144851000000', '389304000000', '637990000000', '210616000000', '253639000000', '526052000000', '858081000000', '220407000000', '242657000000', '115685000000', '919844000000', '1908970000000', '338846000000', '242657000000', '526052000000']\n",
      "['大阪市福島区大開四丁目１番186号(上記の住所は登記上のものであり、実際の業務は下記の場所で行っている。)大阪市北区中之島二丁目２番７号\\u3000中之島セントラルタワー', '京都市南区吉祥院西ノ庄門口町14番地', '東京都江東区豊洲三丁目３番３号', '東京都港区赤坂二丁目17番11号', '大阪市北区中之島二丁目３番18号', '山口県宇部市大字小串1978番地の96', '大阪府大阪市中央区道修町四丁目１番１号（上記は登記上の本店所在地で実際の業務は「最寄りの連絡場所」で行っております。）', '東京都北区王子一丁目４番１号(上記は登記上の本店所在地であり実際の本社業務は下記にて行っています。)東京都千代田区神田駿河台四丁目６番地', '東京都千代田区丸の内三丁目１番１号', '東京都千代田区大手町二丁目６番１号', '\\n\\n兵庫県尼崎市神崎町33番１号\\n\\n\\n（本店は上記の場所に登記しておりますが、実際の本社業務は下記において行っております。）\\n\\n\\n大阪市中央区今橋２丁目６番14号\\n\\n', '愛媛県四国中央市三島紙屋町２番60号（同所は登記上の本店所在地であり、実際の業務は「最寄りの連絡場所」で行っています。）', '東京都千代田区丸の内一丁目９番２号', '東京都千代田区丸の内三丁目１番１号', '東京都江東区豊洲三丁目３番３号', '東京都千代田区神田神保町一丁目105番地(注)\\u30002018年９月１日に本店を以下に移転する予定です。\\u3000\\u3000\\u3000東京都千代田区有楽町一丁目１番２号\\u3000\\u3000\\u3000電話番号\\u300003(6699)3000(代表)', '札幌市中央区北三条西一丁目２番地', '大阪市北区西天満二丁目４番４号', '東京都渋谷区恵比寿四丁目20番３号', '広島県福山市曙町一丁目13番15号', '東京都墨田区両国二丁目10番14号', '東京都千代田区丸の内二丁目１番１号', '新潟県長岡市西蔵王三丁目５番１号(同所は登記上の本店所在地で実際の業務は下記で行っております。)', '東京都千代田区神田錦町三丁目7番地1', '東京都品川区東品川二丁目５番８号', '山口県周南市開成町4560番地', '東京都千代田区丸の内一丁目６番２号', '東京都中央区日本橋馬喰町一丁目７番６号', '東京都新宿区四谷一丁目７番地', '東京都中央区日本橋三丁目６番２号', '東京都千代田区丸の内一丁目６番２号', '\\n\\n愛知県清須市西堀江2288番地\\n\\n\\n(同所は登記上の本店所在地で実際の業務は「最寄りの連絡場所」で行っております。）\\n\\n', '東京都荒川区東尾久七丁目２番35号', '\\n\\n大阪府茨木市下穂積１丁目１番２号\\n\\n\\n（上記は登記上の本店所在地であり、実際の業務は下記で行っております。）\\n\\n\\n大阪市北区大深町４番20号グランフロント大阪タワーA\\n\\n', '愛知県小牧市東三丁目１番地', '東京都中央区日本橋室町二丁目１番１号', '京都市東山区一橋野本町11番地の１', '広島県安芸郡坂町北新地一丁目４番31号', '大阪市中央区道修町三丁目２番10号', '大阪市中央区道修町二丁目１番５号(上記所在の場所は、登記簿上の本店所在地であり、事実上の本社業務は、大阪市中央区久太郎町一丁目８番２号において行っております。)', '山口県周南市御影町１番１号', '大阪市北区大深町３番１号', '東京都中央区日本橋3丁目8番4号', '東京都千代田区丸の内二丁目５番２号', '大阪市北区堂島浜二丁目２番８号', '京都府綾部市青野町膳所１番地', '\\n\\n大阪府大阪市東淀川区下新庄三丁目９番19号\\n\\n\\n（同所は登記上の本店所在地で実際の業務は「最寄りの連絡場所」で行っています。）\\n\\n', '大阪市淀川区宮原五丁目２番30号', '東京都港区東新橋一丁目５番２号', '大阪市中央区道修町四丁目４番10号', '兵庫県伊丹市藤ノ木２丁目２番13号', '東京都港区新橋５丁目36番11号', '東京都板橋区坂下三丁目35番58号', '東京都港区芝大門一丁目13番９号', '東京都墨田区本所一丁目３番７号', '神戸市中央区脇浜町三丁目６番９号', '大阪市東成区大今里南六丁目１番１号', '大阪市中央区道修町四丁目４番10号', '佐賀県鳥栖市田代大官町408番地', '大阪市中央区道修町二丁目６番８号', '大阪市中央区高麗橋四丁目１番１号', '富山県富山市総曲輪一丁目６番21', '愛知県刈谷市豊田町１丁目１番地', '東京都中央区日本橋本町三丁目５番１号', '東京都中央区日本橋本町二丁目５番１号', '東京都中央区新川二丁目27番１号', '岐阜県大垣市神田町２丁目１番地', '東京都品川区小山一丁目３番26号', '東京都港区東新橋一丁目９番２号', '東京都千代田区丸の内二丁目７番２号', '愛知県清須市春日長畑１番地', '東京都文京区小石川4丁目6番10号', '大阪市北区中之島三丁目２番４号', '大阪府大阪市中央区道修町３丁目１番８号', '東京都中央区日本橋室町二丁目１番１号', '東京都中央区日本橋本町二丁目５番１号', '\\n\\n兵庫県尼崎市神崎町33番１号\\n\\n\\n（本店は上記の場所に登記しておりますが、実際の本社業務は下記において行っております。）\\n\\n\\n大阪市中央区今橋２丁目６番14号\\n\\n', '愛媛県四国中央市三島紙屋町２番60号（同所は登記上の本店所在地であり、実際の業務は「最寄りの連絡場所」で行っています。）', '東京都千代田区大手町二丁目６番１号', '\\n\\n東京都千代田区大手町一丁目６番１号 \\n\\n\\n（上記は登記上の本店所在地であり、主な本社業務は下記「最寄りの連絡場所」において行っております。）\\n\\n', '東京都中央区日本橋大伝馬町７番３号', '東京都北区浮間五丁目５番１号（上記は登記簿上の本店所在地であり、事実上の本社業務は下記「最寄りの連絡場所」において行っております。）', '東京都中央区京橋三丁目１番１号', '東京都中央区銀座七丁目５番５号', '岡山県倉敷市酒津1621番地', '東京都千代田区神田司町二丁目12番地１', '東京都中央区日本橋茅場町一丁目14番10号', '東京都港区台場二丁目３番２号', '\\n\\n愛媛県四国中央市金生町下分182番地\\n\\n\\n（上記は登記上の本店所在地であり実際の本社業務は\\n\\n\\n下記の場所で行っております。）\\n\\n\\n東京都港区三田三丁目5番27号\\n\\n\\n住友不動産三田ツインビル西館\\n\\n', '岡山県倉敷市酒津1621番地', '東京都北区浮間五丁目５番１号（上記は登記簿上の本店所在地であり、事実上の本社業務は下記「最寄りの連絡場所」において行っております。）']\n",
      "['http://www.rengo.co.jp/', 'http://www.nippon-shinyaku.co.jp/', '', '', 'http://www.kaneka.co.jp/', '', 'https://www.takeda.com/', 'http://www.nipponpapergroup.com/', '', 'http://www.shinetsu.co.jp/', '', '', '', '', '', 'http://www.asahi-kasei.co.jp/', 'http://www.awi.co.jp/', '', 'http://www.nof.co.jp/', 'https://www.fpco.jp/', 'http://www.mpm.co.jp/', '', '', '', '', 'http://www.tosoh.co.jp/', '', '', '', 'http://www.kose.co.jp/', '', 'http://www.aica.co.jp/', '', '', '', '', 'https://www.sanyo-chemical.co.jp/', 'http://www.daikyonishikawa.co.jp/', 'https://www.mt-pharma.co.jp/', 'http://www.ono.co.jp/', 'http://www.tokuyama.co.jp/', '', 'http://www.harima.co.jp/', 'http://www.mgc.co.jp/', '', '', 'http://www.santen.co.jp/', 'https://www.sawai.co.jp/', 'https://www.mitsuichem.com/', '', 'http://www.toyo-rubber.co.jp/', '', 'http://www.dic-global.com/', 'http://www.sdk.co.jp/', '', '', 'http://www.kokuyo.co.jp/', '', 'http://www.hisamitsu.co.jp/', 'http://www.ds-pharma.co.jp/', '', 'https://www.nichiiko.co.jp/', '', 'https://www.daiichisankyo.co.jp/', 'https://www.astellas.com/', '', 'http://www.ibiden.co.jp/', '', '', 'http://konicaminolta.jp/', 'http://www.toyoda-gosei.co.jp/', 'https://www.eisai.co.jp/', 'https://www.teijin.co.jp/', 'http://www.shionogi.co.jp/', 'http://www.denka.co.jp/', 'https://www.astellas.com/', '', '', 'http://www.shinetsu.co.jp/', '', '', 'https://www.chugai-pharm.co.jp/', 'https://www.bridgestone.co.jp/', 'http://www.shiseidogroup.jp/', 'http://www.kuraray.co.jp/', 'https://www.earth-chem.com/', 'http://www.kao.com/', 'http://www.showa-shell.co.jp/', 'http://www.unicharm.co.jp/', 'http://www.kuraray.co.jp/', 'https://www.chugai-pharm.co.jp/']\n",
      "['', '', '', '', 'あり', '', '', 'あり', '', '', '', '', '', '', '', 'あり', '', '', '', '', 'あり', '', '', '', '', '', '', '', '', '', '', '', '', '', '', 'あり', '', '', '', '', '', '', '', '', '', '', '', '', '', '', 'あり', '', '', '', '', '', '', '', 'あり', '', '', '', '', '', '', '', 'あり', '', '', '', '', '', '', '', '', '', '', '', '', '', '', '', '', 'あり', 'あり', '', '', '', '', 'あり', '']\n"
     ]
    }
   ],
   "source": [
    "# 売上が1000億円以上の企業の各データを取得\n",
    "target_company = [] # 会社名\n",
    "target_sales = []   # 売上高\n",
    "target_address = [] # 本社住所\n",
    "target_url = []     # URL\n",
    "target_assets = []  # 有形固定資産\n",
    "\n",
    "company_context_ref = \"FilingDateInstant\"\n",
    "sales_context_ref = \"CurrentYearDuration_NonConsolidatedMember\" # 単体情報(親会社のみ)\n",
    "address_context_ref = \"FilingDateInstant\"\n",
    "url_context_ref = \"FilingDateInstant\"\n",
    "tfa_context_ref = \"CurrentYearDuration\"\n",
    "\n",
    "company_key = \"jpcrp_cor:CompanyNameCoverPage\"\n",
    "address_key = \"jpcrp_cor:AddressOfRegisteredHeadquarterCoverPage\"\n",
    "url_key = \"jpcrp_cor:OverviewOfOperationalProceduresForSharesTextBlock\"\n",
    "# other_url_key = \"jpcrp_cor:ExplanationAboutCorporateGovernanceTextBlock\"\n",
    "tfa_key = \"jpcrp_cor:PropertyPlantAndEquipmentInformationForEachRegionTextBlock\"\n",
    "\n",
    "for xi in xbrl_file_path:\n",
    "    sales_key = \"jpcrp_cor:NetSalesSummaryOfBusinessResults\"\n",
    "    \n",
    "    # 指定オブジェクトの取得\n",
    "    edinet_xbrl_obj = parser.parse_file(xi)\n",
    "    sales = edinet_xbrl_obj.get_data_by_context_ref(sales_key, sales_context_ref)\n",
    "    \n",
    "    # 売上高が存在しないなら，営業収益を取得\n",
    "    if sales is None:\n",
    "        sales_key = \"jpcrp_cor:OperatingRevenue1SummaryOfBusinessResults\"\n",
    "        sales = edinet_xbrl_obj.get_data_by_context_ref(sales_key, sales_context_ref)\n",
    "    \n",
    "    # 売上高，営業収益ともにないなら除外\n",
    "    if sales is None:\n",
    "        pass\n",
    "    else:\n",
    "        sales = sales.get_value()\n",
    "    \n",
    "    if sales is None:\n",
    "        pass\n",
    "    else:\n",
    "        # 1000億円以上の売上ならリストに追加\n",
    "        if int(sales) >= 100000000000:\n",
    "            tags = 0\n",
    "            assets = 0\n",
    "            assets_flag = False\n",
    "            \n",
    "            company = edinet_xbrl_obj.get_data_by_context_ref(company_key, company_context_ref).get_value()\n",
    "            address = edinet_xbrl_obj.get_data_by_context_ref(address_key, address_context_ref).get_value()\n",
    "            tangivleFixedAssets = edinet_xbrl_obj.get_data_by_context_ref(tfa_key, tfa_context_ref)\n",
    "            \n",
    "            target_address.append(address)\n",
    "            \n",
    "            # URL取得\n",
    "            corporate_governance = edinet_xbrl_obj.get_data_by_context_ref(url_key, url_context_ref).get_value()\n",
    "            soup = BeautifulSoup(str(corporate_governance).replace(\"<br/>\", \"\"))\n",
    "            url_tags = soup.find_all(\"p\") # 一つのxbrlファイルの該当箇所のpタグ全てのリスト (参考)class_=\"smt_text4\" 東レ\n",
    "\n",
    "            for ui in url_tags:\n",
    "                options = str(ui.string)\n",
    "                url = re.findall(\"https?://[\\w:%#\\$&\\?\\(\\)~\\.=\\+\\-]+/\", options)\n",
    "                if url != []:\n",
    "                    target_url.append(url[0])\n",
    "                    continue\n",
    "                elif tags == (len(url_tags) - 1):\n",
    "                    target_url.append(\"\")\n",
    "                tags += 1\n",
    "            \n",
    "            if (tangivleFixedAssets is None):\n",
    "                target_assets.append(\"\")\n",
    "            else:\n",
    "                tangivleFixedAssets = tangivleFixedAssets.get_value()\n",
    "                \n",
    "                # 邪魔な<br/>タグを除去して，有形固定資産の該当箇所の抽出\n",
    "                soup = BeautifulSoup(str(tangivleFixedAssets).replace(\"<br/>\", \"\"))\n",
    "                fixedAssetsList = soup.find_all(\"p\", class_=\"smt_tblC\")\n",
    "                \n",
    "                if fixedAssetsList == []:\n",
    "                    target_assets.append(\"\")\n",
    "                else:\n",
    "                    for ai in fixedAssetsList:\n",
    "                        if assets_flag==False and (fnmatch.fnmatch(ai.string, '*米国*') or fnmatch.fnmatch(ai.string, '*北米*')):\n",
    "                            target_assets.append(\"あり\")\n",
    "                            assets_flag = True\n",
    "                            continue\n",
    "                        elif assets == (len(fixedAssetsList) - 1):\n",
    "                            target_assets.append(\"\")\n",
    "                        assets += 1\n",
    "            \n",
    "            target_company.append(company)\n",
    "            target_sales.append(sales)\n",
    "\n",
    "print(target_company)\n",
    "print(target_sales)\n",
    "print(target_address)\n",
    "print(target_url)\n",
    "print(target_assets)"
   ]
  },
  {
   "cell_type": "code",
   "execution_count": 535,
   "metadata": {},
   "outputs": [
    {
     "name": "stdout",
     "output_type": "stream",
     "text": [
      "91\n",
      "91\n",
      "91\n",
      "91\n",
      "91\n"
     ]
    }
   ],
   "source": [
    "print(len(target_company))\n",
    "print(len(target_sales))\n",
    "print(len(target_address))\n",
    "print(len(target_url))\n",
    "print(len(target_assets))"
   ]
  },
  {
   "cell_type": "code",
   "execution_count": 537,
   "metadata": {},
   "outputs": [
    {
     "name": "stdout",
     "output_type": "stream",
     "text": [
      "[['企業名', '売上高(JPY)', '本店住所', '企業URL', '米国拠点'], ['レンゴー株式会社', '303406000000', '大阪市福島区大開四丁目１番186号(上記の住所は登記上のものであり、実際の業務は下記の場所で行っている。)大阪市北区中之島二丁目２番７号\\u3000中之島セントラルタワー', 'http://www.rengo.co.jp/', ''], ['日本新薬株式会社', '101221000000', '京都市南区吉祥院西ノ庄門口町14番地', 'http://www.nippon-shinyaku.co.jp/', ''], ['日本コークス工業株式会社', '100472000000', '東京都江東区豊洲三丁目３番３号', '', ''], ['株式会社ツムラ', '116230000000', '東京都港区赤坂二丁目17番11号', '', ''], ['株式会社カネカ', '293016000000', '大阪市北区中之島二丁目３番18号', 'http://www.kaneka.co.jp/', 'あり'], ['宇部興産株式会社', '315241000000', '山口県宇部市大字小串1978番地の96', '', ''], ['武田薬品工業株式会社', '659462000000', '大阪府大阪市中央区道修町四丁目１番１号（上記は登記上の本店所在地で実際の業務は「最寄りの連絡場所」で行っております。）', 'https://www.takeda.com/', ''], ['日本製紙株式会社', '611735000000', '東京都北区王子一丁目４番１号(上記は登記上の本店所在地であり実際の本社業務は下記にて行っています。)東京都千代田区神田駿河台四丁目６番地', 'http://www.nipponpapergroup.com/', 'あり'], ['出光興産株式会社', '2746981000000', '東京都千代田区丸の内三丁目１番１号', '', ''], ['信越化学工業株式会社', '733449000000', '東京都千代田区大手町二丁目６番１号', 'http://www.shinetsu.co.jp/', ''], ['関西ペイント株式会社', '151983000000', '兵庫県尼崎市神崎町33番１号（本店は上記の場所に登記しておりますが、実際の本社業務は下記において行っております。）大阪市中央区今橋２丁目６番14号', '', ''], ['大王製紙株式会社', '390460000000', '愛媛県四国中央市三島紙屋町２番60号（同所は登記上の本店所在地であり、実際の業務は「最寄りの連絡場所」で行っています。）', '', ''], ['日立化成株式会社', '374352000000', '東京都千代田区丸の内一丁目９番２号', '', ''], ['出光興産株式会社', '2746981000000', '東京都千代田区丸の内三丁目１番１号', '', ''], ['日本コークス工業株式会社', '100472000000', '東京都江東区豊洲三丁目３番３号', '', ''], ['旭化成株式会社', '621875000000', '東京都千代田区神田神保町一丁目105番地(注)\\u30002018年９月１日に本店を以下に移転する予定です。\\u3000\\u3000\\u3000東京都千代田区有楽町一丁目１番２号\\u3000\\u3000\\u3000電話番号\\u300003(6699)3000(代表)', 'http://www.asahi-kasei.co.jp/', 'あり'], ['エア・ウォーター株式会社', '167782000000', '札幌市中央区北三条西一丁目２番地', 'http://www.awi.co.jp/', ''], ['積水化学工業株式会社', '356785000000', '大阪市北区西天満二丁目４番４号', '', ''], ['日油株式会社', '125333000000', '東京都渋谷区恵比寿四丁目20番３号', 'http://www.nof.co.jp/', ''], ['株式会社エフピコ', '139840000000', '広島県福山市曙町一丁目13番15号', 'https://www.fpco.jp/', ''], ['三菱製紙株式会社', '118445000000', '東京都墨田区両国二丁目10番14号', 'http://www.mpm.co.jp/', 'あり'], ['日本化薬株式会社', '102150000000', '東京都千代田区丸の内二丁目１番１号', '', ''], ['北越紀州製紙株式会社', '176245000000', '新潟県長岡市西蔵王三丁目５番１号(同所は登記上の本店所在地で実際の業務は下記で行っております。)', '', ''], ['日産化学工業株式会社', '147319000000', '東京都千代田区神田錦町三丁目7番地1', '', ''], ['富士石油株式会社', '416857000000', '東京都品川区東品川二丁目５番８号', '', ''], ['東ソー株式会社', '585195000000', '山口県周南市開成町4560番地', 'http://www.tosoh.co.jp/', ''], ['日本ゼオン株式会社', '219002000000', '東京都千代田区丸の内一丁目６番２号', '', ''], ['大日精化工業株式会社', '125960000000', '東京都中央区日本橋馬喰町一丁目７番６号', '', ''], ['持田製薬株式会社', '100528000000', '東京都新宿区四谷一丁目７番地', '', ''], ['株式会社コーセー', '135893000000', '東京都中央区日本橋三丁目６番２号', 'http://www.kose.co.jp/', ''], ['日本ゼオン株式会社', '219002000000', '東京都千代田区丸の内一丁目６番２号', '', ''], ['アイカ工業株式会社', '105513000000', '愛知県清須市西堀江2288番地(同所は登記上の本店所在地で実際の業務は「最寄りの連絡場所」で行っております。）', 'http://www.aica.co.jp/', ''], ['株式会社ＡＤＥＫＡ', '131319000000', '東京都荒川区東尾久七丁目２番35号', '', ''], ['日東電工株式会社', '519000000000', '大阪府茨木市下穂積１丁目１番２号（上記は登記上の本店所在地であり、実際の業務は下記で行っております。）大阪市北区大深町４番20号グランフロント大阪タワーA', '', ''], ['住友理工株式会社', '175064000000', '愛知県小牧市東三丁目１番地', '', ''], ['東レ株式会社', '591664000000', '東京都中央区日本橋室町二丁目１番１号', '', 'あり'], ['三洋化成工業株式会社', '103902000000', '京都市東山区一橋野本町11番地の１', 'https://www.sanyo-chemical.co.jp/', ''], ['ダイキョーニシカワ株式会社', '136006000000', '広島県安芸郡坂町北新地一丁目４番31号', 'http://www.daikyonishikawa.co.jp/', ''], ['田辺三菱製薬株式会社', '414957000000', '大阪市中央区道修町三丁目２番10号', 'https://www.mt-pharma.co.jp/', ''], ['小野薬品工業株式会社', '260223000000', '大阪市中央区道修町二丁目１番５号(上記所在の場所は、登記簿上の本店所在地であり、事実上の本社業務は、大阪市中央区久太郎町一丁目８番２号において行っております。)', 'http://www.ono.co.jp/', ''], ['株式会社トクヤマ', '188501000000', '山口県周南市御影町１番１号', 'http://www.tokuyama.co.jp/', ''], ['株式会社ダイセル', '239638000000', '大阪市北区大深町３番１号', '', ''], ['ハリマ化成グループ株式会社', '3040750000000', '東京都中央区日本橋3丁目8番4号', 'http://www.harima.co.jp/', ''], ['三菱瓦斯化学株式会社', '364433000000', '東京都千代田区丸の内二丁目５番２号', 'http://www.mgc.co.jp/', ''], ['東洋紡株式会社', '202877000000', '大阪市北区堂島浜二丁目２番８号', '', ''], ['グンゼ株式会社', '107660000000', '京都府綾部市青野町膳所１番地', '', ''], ['参天製薬株式会社', '171872000000', '大阪府大阪市東淀川区下新庄三丁目９番19号（同所は登記上の本店所在地で実際の業務は「最寄りの連絡場所」で行っています。）', 'http://www.santen.co.jp/', ''], ['沢井製薬株式会社', '134178000000', '大阪市淀川区宮原五丁目２番30号', 'https://www.sawai.co.jp/', ''], ['三井化学株式会社', '676037000000', '東京都港区東新橋一丁目５番２号', 'https://www.mitsuichem.com/', ''], ['小林製薬株式会社', '133522000000', '大阪市中央区道修町四丁目４番10号', '', ''], ['東洋ゴム工業株式会社', '218678000000', '兵庫県伊丹市藤ノ木２丁目２番13号', 'http://www.toyo-rubber.co.jp/', 'あり'], ['横浜ゴム株式会社', '331560000000', '東京都港区新橋５丁目36番11号', '', ''], ['ＤＩＣ株式会社', '232045000000', '東京都板橋区坂下三丁目35番58号', 'http://www.dic-global.com/', ''], ['昭和電工株式会社', '524708000000', '東京都港区芝大門一丁目13番９号', 'http://www.sdk.co.jp/', ''], ['ライオン株式会社', '264280000000', '東京都墨田区本所一丁目３番７号', '', ''], ['住友ゴム工業株式会社', '461538000000', '神戸市中央区脇浜町三丁目６番９号', '', ''], ['コクヨ株式会社', '167214000000', '大阪市東成区大今里南六丁目１番１号', 'http://www.kokuyo.co.jp/', ''], ['小林製薬株式会社', '133522000000', '大阪市中央区道修町四丁目４番10号', '', ''], ['久光製薬株式会社', '112391000000', '佐賀県鳥栖市田代大官町408番地', 'http://www.hisamitsu.co.jp/', 'あり'], ['大日本住友製薬株式会社', '251101000000', '大阪市中央区道修町二丁目６番８号', 'http://www.ds-pharma.co.jp/', ''], ['株式会社日本触媒', '226887000000', '大阪市中央区高麗橋四丁目１番１号', '', ''], ['日医工株式会社', '150642000000', '富山県富山市総曲輪一丁目６番21', 'https://www.nichiiko.co.jp/', ''], ['トヨタ紡織株式会社', '721798000000', '愛知県刈谷市豊田町１丁目１番地', '', ''], ['第一三共株式会社', '630954000000', '東京都中央区日本橋本町三丁目５番１号', 'https://www.daiichisankyo.co.jp/', ''], ['アステラス製薬株式会社', '613657000000', '東京都中央区日本橋本町二丁目５番１号', 'https://www.astellas.com/', ''], ['住友化学株式会社', '708362000000', '東京都中央区新川二丁目27番１号', '', ''], ['イビデン株式会社', '128869000000', '岐阜県大垣市神田町２丁目１番地', 'http://www.ibiden.co.jp/', 'あり'], ['大陽日酸株式会社', '213909000000', '東京都品川区小山一丁目３番26号', '', ''], ['ＪＳＲ株式会社', '240576000000', '東京都港区東新橋一丁目９番２号', '', ''], ['コニカミノルタ株式会社', '436157000000', '東京都千代田区丸の内二丁目７番２号', 'http://konicaminolta.jp/', ''], ['豊田合成株式会社', '376845000000', '愛知県清須市春日長畑１番地', 'http://www.toyoda-gosei.co.jp/', ''], ['エーザイ株式会社', '334051000000', '東京都文京区小石川4丁目6番10号', 'https://www.eisai.co.jp/', ''], ['帝人株式会社', '116825000000', '大阪市北区中之島三丁目２番４号', 'https://www.teijin.co.jp/', ''], ['塩野義製薬株式会社', '315941000000', '大阪府大阪市中央区道修町３丁目１番８号', 'http://www.shionogi.co.jp/', ''], ['デンカ株式会社', '237833000000', '東京都中央区日本橋室町二丁目１番１号', 'http://www.denka.co.jp/', ''], ['アステラス製薬株式会社', '613657000000', '東京都中央区日本橋本町二丁目５番１号', 'https://www.astellas.com/', ''], ['関西ペイント株式会社', '144851000000', '兵庫県尼崎市神崎町33番１号（本店は上記の場所に登記しておりますが、実際の本社業務は下記において行っております。）大阪市中央区今橋２丁目６番14号', '', ''], ['大王製紙株式会社', '389304000000', '愛媛県四国中央市三島紙屋町２番60号（同所は登記上の本店所在地であり、実際の業務は「最寄りの連絡場所」で行っています。）', '', ''], ['信越化学工業株式会社', '637990000000', '東京都千代田区大手町二丁目６番１号', 'http://www.shinetsu.co.jp/', ''], ['協和発酵キリン株式会社', '210616000000', '東京都千代田区大手町一丁目６番１号 （上記は登記上の本店所在地であり、主な本社業務は下記「最寄りの連絡場所」において行っております。）', '', ''], ['ヒューリック株式会社', '253639000000', '東京都中央区日本橋大伝馬町７番３号', '', ''], ['中外製薬株式会社', '526052000000', '東京都北区浮間五丁目５番１号（上記は登記簿上の本店所在地であり、事実上の本社業務は下記「最寄りの連絡場所」において行っております。）', 'https://www.chugai-pharm.co.jp/', ''], ['株式会社ブリヂストン', '858081000000', '東京都中央区京橋三丁目１番１号', 'https://www.bridgestone.co.jp/', ''], ['株式会社資生堂', '220407000000', '東京都中央区銀座七丁目５番５号', 'http://www.shiseidogroup.jp/', 'あり'], ['株式会社クラレ', '242657000000', '岡山県倉敷市酒津1621番地', 'http://www.kuraray.co.jp/', 'あり'], ['アース製薬株式会社', '115685000000', '東京都千代田区神田司町二丁目12番地１', 'https://www.earth-chem.com/', ''], ['花王株式会社', '919844000000', '東京都中央区日本橋茅場町一丁目14番10号', 'http://www.kao.com/', ''], ['昭和シェル石油株式会社', '1908970000000', '東京都港区台場二丁目３番２号', 'http://www.showa-shell.co.jp/', ''], ['ユニ・チャーム株式会社', '338846000000', '愛媛県四国中央市金生町下分182番地（上記は登記上の本店所在地であり実際の本社業務は下記の場所で行っております。）東京都港区三田三丁目5番27号住友不動産三田ツインビル西館', 'http://www.unicharm.co.jp/', ''], ['株式会社クラレ', '242657000000', '岡山県倉敷市酒津1621番地', 'http://www.kuraray.co.jp/', 'あり'], ['中外製薬株式会社', '526052000000', '東京都北区浮間五丁目５番１号（上記は登記簿上の本店所在地であり、事実上の本社業務は下記「最寄りの連絡場所」において行っております。）', 'https://www.chugai-pharm.co.jp/', '']]\n"
     ]
    }
   ],
   "source": [
    "# csv出力用リストの作成\n",
    "list4csv = [['企業名', '売上高(JPY)', '本店住所', '企業URL', '米国拠点']]\n",
    "for i in range(len(target_company)):\n",
    "    list4csv.append([target_company[i], target_sales[i], target_address[i].replace(\"\\n\", \"\"), target_url[i], target_assets[i]])\n",
    "print(list4csv)"
   ]
  },
  {
   "cell_type": "code",
   "execution_count": 538,
   "metadata": {},
   "outputs": [],
   "source": [
    "with open('company_list.csv', 'w') as file:\n",
    "    writer = csv.writer(file, lineterminator='\\n')\n",
    "    writer.writerows(list4csv)"
   ]
  },
  {
   "cell_type": "code",
   "execution_count": null,
   "metadata": {},
   "outputs": [],
   "source": []
  }
 ],
 "metadata": {
  "kernelspec": {
   "display_name": "Python 3",
   "language": "python",
   "name": "python3"
  },
  "language_info": {
   "codemirror_mode": {
    "name": "ipython",
    "version": 3
   },
   "file_extension": ".py",
   "mimetype": "text/x-python",
   "name": "python",
   "nbconvert_exporter": "python",
   "pygments_lexer": "ipython3",
   "version": "3.5.5"
  },
  "widgets": {
   "state": {},
   "version": "1.1.2"
  }
 },
 "nbformat": 4,
 "nbformat_minor": 2
}
