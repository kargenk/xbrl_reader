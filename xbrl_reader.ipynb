{
 "cells": [
  {
   "cell_type": "markdown",
   "metadata": {},
   "source": [
    "# メモ書き\n",
    "## key(項目)\n",
    "### jpcrp_cor:CompanyNameCoverPage\n",
    "企業名\n",
    "### jppfs_cor:Assets\n",
    "総資産\n",
    "### jpcrp_cor:NetSalesSummaryOfBusinessResults\n",
    "売上高:製品や商品など有形物を販売する場合\n",
    "### jpcrp_cor:OperatingRevenue1SummaryOfBusinessResults\n",
    "営業収益:無形のサービスや手数料などを提供した場合\n",
    "\n",
    "## context_ref(詳細)\n",
    "### FilingDateInstant\n",
    "企業名のコンテキスト(詳細不明)\n",
    "### CurrentYearInstant_NonConsolidatedMember\n",
    "CurrentYearInstant:今年度\n",
    "NonConsolidatedMember:単体情報(親会社-持ち株会社のみ) ，ない場合は連結情報（子会社含む，ホールディングスと名前につくことが多い）\n",
    "\n",
    "Instantは総資産のみに使われていると思われる\n",
    "#### CurrentYearDuration_NonConsolidatedMember\n",
    "Duration:期間 は 代n期を示す\n",
    "\n",
    "Current:今期, Prior1:前期, Prior2:前々期, 以降さかのぼるごとにPriorに続く数値が増える"
   ]
  },
  {
   "cell_type": "code",
   "execution_count": 35,
   "metadata": {},
   "outputs": [],
   "source": [
    "#!usr/bin/env python3\n",
    "# -*- coding: utf-8 -*-"
   ]
  },
  {
   "cell_type": "code",
   "execution_count": 36,
   "metadata": {},
   "outputs": [],
   "source": [
    "from edinet_xbrl.edinet_xbrl_parser import EdinetXbrlParser\n",
    "import fnmatch\n",
    "import os"
   ]
  },
  {
   "cell_type": "code",
   "execution_count": 37,
   "metadata": {},
   "outputs": [],
   "source": [
    "# 全xbrlファイルパスを取得する(ディレクトリを含んでしまう)\n",
    "def find_all_xbrl(directory):\n",
    "    for root, dirs, files in os.walk(directory):\n",
    "        yield root\n",
    "        for file in files:\n",
    "            if fnmatch.fnmatch(file, '*.xbrl'):\n",
    "                yield os.path.join(root, file)"
   ]
  },
  {
   "cell_type": "code",
   "execution_count": 43,
   "metadata": {
    "scrolled": true
   },
   "outputs": [],
   "source": [
    "# 全ファイルパスを取得\n",
    "all_file_path = []\n",
    "for f in find_all_xbrl(\"..\\extracted_xbrl\"):\n",
    "    all_file_path.append(f)"
   ]
  },
  {
   "cell_type": "code",
   "execution_count": 44,
   "metadata": {},
   "outputs": [
    {
     "name": "stdout",
     "output_type": "stream",
     "text": [
      "533\n"
     ]
    }
   ],
   "source": [
    "# xbrl形式の入るパスのみ取得\n",
    "xbrl_file_path = []\n",
    "for i in all_file_path:\n",
    "    # PublicDoc内のxbrlファイルはasrという文字列を含む\n",
    "    if fnmatch.fnmatch(i, '*asr*.xbrl'):\n",
    "        xbrl_file_path.append(i)\n",
    "print(len(xbrl_file_path))"
   ]
  },
  {
   "cell_type": "code",
   "execution_count": 45,
   "metadata": {},
   "outputs": [],
   "source": [
    "# パーサの初期化\n",
    "parser = EdinetXbrlParser()"
   ]
  },
  {
   "cell_type": "code",
   "execution_count": 46,
   "metadata": {},
   "outputs": [],
   "source": [
    "# xbrlファイルを取得してpythonで扱えるオブジェクトに格納\n",
    "edinet_xbrl_obj = parser.parse_file(xbrl_file_path[0])"
   ]
  },
  {
   "cell_type": "code",
   "execution_count": 55,
   "metadata": {},
   "outputs": [
    {
     "name": "stdout",
     "output_type": "stream",
     "text": [
      "..\\extracted_xbrl\\Xbrl_Search_20181129_112233\\S100D0OG\\XBRL\\PublicDoc\\jpcrp030000-asr-001_E33794-000_2018-03-31_01_2018-06-28.xbrl\n",
      "Company: 神戸天然物化学株式会社\n"
     ]
    }
   ],
   "source": [
    "# 企業名を取得\n",
    "print(xbrl_file_path[0])\n",
    "key = \"jpcrp_cor:CompanyNameCoverPage\"\n",
    "context_ref = \"FilingDateInstant\"\n",
    "company_name = edinet_xbrl_obj.get_data_by_context_ref(key, context_ref).get_value()\n",
    "print(\"Company: \" + company_name)"
   ]
  },
  {
   "cell_type": "code",
   "execution_count": 56,
   "metadata": {},
   "outputs": [
    {
     "name": "stdout",
     "output_type": "stream",
     "text": [
      "Assets: 12768925000 JPN\n"
     ]
    }
   ],
   "source": [
    "# 総資産を取得\n",
    "key = \"jppfs_cor:Assets\"\n",
    "context_ref = \"CurrentYearInstant_NonConsolidatedMember\"\n",
    "current_year_assets = edinet_xbrl_obj.get_data_by_context_ref(key, context_ref).get_value()\n",
    "print(\"Assets: \" + current_year_assets + \" JPN\")"
   ]
  },
  {
   "cell_type": "code",
   "execution_count": 58,
   "metadata": {},
   "outputs": [
    {
     "name": "stdout",
     "output_type": "stream",
     "text": [
      "Sales: 6312682000 JPN\n"
     ]
    }
   ],
   "source": [
    "# 売上高を取得\n",
    "key = \"jpcrp_cor:NetSalesSummaryOfBusinessResults\"\n",
    "context_ref = \"CurrentYearDuration_NonConsolidatedMember\"\n",
    "current_year_duration = edinet_xbrl_obj.get_data_by_context_ref(key, context_ref).get_value()\n",
    "print(\"Sales: \" + current_year_duration + \" JPN\")"
   ]
  },
  {
   "cell_type": "code",
   "execution_count": 79,
   "metadata": {},
   "outputs": [
    {
     "name": "stdout",
     "output_type": "stream",
     "text": [
      "..\\extracted_xbrl\\Xbrl_Search_20181129_112233\\S100D0OG\\XBRL\\PublicDoc\\jpcrp030000-asr-001_E33794-000_2018-03-31_01_2018-06-28.xbrl\n",
      "..\\extracted_xbrl\\Xbrl_Search_20181129_112233\\S100D2LN\\XBRL\\PublicDoc\\jpcrp030000-asr-001_E00544-000_2018-03-31_01_2018-06-28.xbrl\n",
      "..\\extracted_xbrl\\Xbrl_Search_20181129_112233\\S100D9QA\\XBRL\\PublicDoc\\jpcrp030000-asr-001_E30909-000_2018-03-31_01_2018-06-29.xbrl\n",
      "..\\extracted_xbrl\\Xbrl_Search_20181129_112233\\S100DA3W\\XBRL\\PublicDoc\\jpcrp030000-asr-001_E00899-000_2018-03-31_01_2018-06-28.xbrl\n",
      "..\\extracted_xbrl\\Xbrl_Search_20181129_112233\\S100DAVV\\XBRL\\PublicDoc\\jpcrp030000-asr-001_E00755-000_2018-03-31_01_2018-06-29.xbrl\n",
      "..\\extracted_xbrl\\Xbrl_Search_20181129_112233\\S100DCEY\\XBRL\\PublicDoc\\jpcrp030000-asr-001_E00558-000_2018-03-31_01_2018-06-29.xbrl\n",
      "..\\extracted_xbrl\\Xbrl_Search_20181129_112233\\S100DCOS\\XBRL\\PublicDoc\\jpcrp030000-asr-001_E00563-000_2018-03-31_01_2018-06-29.xbrl\n",
      "..\\extracted_xbrl\\Xbrl_Search_20181129_112233\\S100DCYU\\XBRL\\PublicDoc\\jpcrp030000-asr-001_E32204-000_2018-03-31_01_2018-06-29.xbrl\n",
      "..\\extracted_xbrl\\Xbrl_Search_20181129_112233\\S100DDES\\XBRL\\PublicDoc\\jpcrp030000-asr-001_E00659-000_2018-03-31_01_2018-06-29.xbrl\n",
      "hit!!\n",
      "['レンゴー株式会社']\n",
      "..\\extracted_xbrl\\Xbrl_Search_20181129_112233\\S100DDHH\\XBRL\\PublicDoc\\jpcrp030000-asr-001_E00844-000_2018-03-31_01_2018-06-29.xbrl\n",
      "..\\extracted_xbrl\\Xbrl_Search_20181129_112233\\S100DDX6\\XBRL\\PublicDoc\\jpcrp030000-asr-001_E00612-000_2018-03-31_01_2018-06-29.xbrl\n",
      "..\\extracted_xbrl\\Xbrl_Search_20181129_112233\\S100DDZR\\XBRL\\PublicDoc\\jpcrp030000-asr-001_E25678-000_2018-03-31_01_2018-06-28.xbrl\n",
      "..\\extracted_xbrl\\Xbrl_Search_20181129_112233\\S100DE0B\\XBRL\\PublicDoc\\jpcrp030000-asr-001_E00753-000_2018-03-31_01_2018-06-28.xbrl\n",
      "..\\extracted_xbrl\\Xbrl_Search_20181129_112233\\S100DE10\\XBRL\\PublicDoc\\jpcrp030000-asr-001_E00614-000_2018-03-31_01_2018-06-28.xbrl\n",
      "..\\extracted_xbrl\\Xbrl_Search_20181129_112233\\S100DE5F\\XBRL\\PublicDoc\\jpcrp030000-asr-001_E00941-000_2018-03-31_01_2018-06-28.xbrl\n",
      "..\\extracted_xbrl\\Xbrl_Search_20181129_112233\\S100DE5T\\XBRL\\PublicDoc\\jpcrp030000-asr-001_E00772-000_2018-03-31_01_2018-06-28.xbrl\n",
      "..\\extracted_xbrl\\Xbrl_Search_20181129_112233\\S100DE75\\XBRL\\PublicDoc\\jpcrp030000-asr-001_E00886-000_2018-03-31_01_2018-06-28.xbrl\n",
      "..\\extracted_xbrl\\Xbrl_Search_20181129_112233\\S100DE8O\\XBRL\\PublicDoc\\jpcrp030000-asr-001_E00929-000_2018-03-31_01_2018-06-28.xbrl\n",
      "..\\extracted_xbrl\\Xbrl_Search_20181129_112233\\S100DEG9\\XBRL\\PublicDoc\\jpcrp030000-asr-001_E00931-000_2018-03-31_01_2018-06-29.xbrl\n",
      "hit!!\n",
      "['レンゴー株式会社', '日本新薬株式会社']\n",
      "..\\extracted_xbrl\\Xbrl_Search_20181129_112233\\S100DET9\\XBRL\\PublicDoc\\jpcrp030000-asr-001_E00030-000_2018-03-31_01_2018-06-28.xbrl\n",
      "hit!!\n",
      "['レンゴー株式会社', '日本新薬株式会社', '日本コークス工業株式会社']\n",
      "..\\extracted_xbrl\\Xbrl_Search_20181129_112233\\S100DEWQ\\XBRL\\PublicDoc\\jpcrp030000-asr-001_E01018-000_2018-03-31_01_2018-06-28.xbrl\n",
      "hit!!\n",
      "['レンゴー株式会社', '日本新薬株式会社', '日本コークス工業株式会社', '株式会社ツムラ']\n",
      "..\\extracted_xbrl\\Xbrl_Search_20181129_112233\\S100DEXL\\XBRL\\PublicDoc\\jpcrp030000-asr-001_E00566-000_2018-03-31_01_2018-06-29.xbrl\n",
      "..\\extracted_xbrl\\Xbrl_Search_20181129_112233\\S100DF03\\XBRL\\PublicDoc\\jpcrp030000-asr-001_E33603-000_2018-03-31_01_2018-06-28.xbrl\n",
      "..\\extracted_xbrl\\Xbrl_Search_20181129_112233\\S100DF6B\\XBRL\\PublicDoc\\jpcrp030000-asr-001_E00986-000_2018-03-31_01_2018-06-29.xbrl\n",
      "..\\extracted_xbrl\\Xbrl_Search_20181129_112233\\S100DFEU\\XBRL\\PublicDoc\\jpcrp030000-asr-001_E00879-000_2018-03-31_01_2018-06-28.xbrl\n",
      "hit!!\n",
      "['レンゴー株式会社', '日本新薬株式会社', '日本コークス工業株式会社', '株式会社ツムラ', '株式会社カネカ']\n",
      "..\\extracted_xbrl\\Xbrl_Search_20181129_112233\\S100DFHL\\XBRL\\PublicDoc\\jpcrp030000-asr-001_E00766-000_2018-03-31_01_2018-06-28.xbrl\n",
      "..\\extracted_xbrl\\Xbrl_Search_20181129_112233\\S100DFML\\XBRL\\PublicDoc\\jpcrp030000-asr-001_E00585-000_2018-03-31_01_2018-06-28.xbrl\n",
      "..\\extracted_xbrl\\Xbrl_Search_20181129_112233\\S100DFTF\\XBRL\\PublicDoc\\jpcrp030000-asr-001_E01077-000_2018-03-31_01_2018-06-29.xbrl\n",
      "..\\extracted_xbrl\\Xbrl_Search_20181129_112233\\S100DFUQ\\XBRL\\PublicDoc\\jpcrp030000-asr-001_E01002-000_2018-03-31_01_2018-06-28.xbrl\n",
      "hit!!\n",
      "['レンゴー株式会社', '日本新薬株式会社', '日本コークス工業株式会社', '株式会社ツムラ', '株式会社カネカ', '宇部興産株式会社']\n",
      "..\\extracted_xbrl\\Xbrl_Search_20181129_112233\\S100DG2Z\\XBRL\\PublicDoc\\jpcrp030000-asr-001_E02444-000_2018-03-31_01_2018-06-28.xbrl\n",
      "..\\extracted_xbrl\\Xbrl_Search_20181129_112233\\S100DG7F\\XBRL\\PublicDoc\\jpcrp030000-asr-001_E00919-000_2018-03-31_01_2018-06-28.xbrl\n",
      "hit!!\n",
      "['レンゴー株式会社', '日本新薬株式会社', '日本コークス工業株式会社', '株式会社ツムラ', '株式会社カネカ', '宇部興産株式会社', '武田薬品工業株式会社']\n",
      "..\\extracted_xbrl\\Xbrl_Search_20181129_112233\\S100DGAA\\XBRL\\PublicDoc\\jpcrp030000-asr-001_E00786-000_2018-03-31_01_2018-06-29.xbrl\n",
      "..\\extracted_xbrl\\Xbrl_Search_20181129_112233\\S100DGHV\\XBRL\\PublicDoc\\jpcrp030000-asr-001_E00567-000_2018-03-31_01_2018-06-28.xbrl\n",
      "..\\extracted_xbrl\\Xbrl_Search_20181129_112233\\S100DGM0\\XBRL\\PublicDoc\\jpcrp030000-asr-001_E02348-000_2018-03-31_01_2018-06-28.xbrl\n",
      "..\\extracted_xbrl\\Xbrl_Search_20181129_112233\\S100DGPM\\XBRL\\PublicDoc\\jpcrp030000-asr-001_E00810-000_2018-03-31_01_2018-06-28.xbrl\n",
      "..\\extracted_xbrl\\Xbrl_Search_20181129_112233\\S100DGS8\\XBRL\\PublicDoc\\jpcrp030000-asr-001_E00911-000_2018-03-31_01_2018-06-28.xbrl\n",
      "..\\extracted_xbrl\\Xbrl_Search_20181129_112233\\S100DGT0\\XBRL\\PublicDoc\\jpcrp030000-asr-001_E01113-000_2018-03-31_01_2018-06-28.xbrl\n",
      "..\\extracted_xbrl\\Xbrl_Search_20181129_112233\\S100DGTL\\XBRL\\PublicDoc\\jpcrp030000-asr-001_E22560-000_2018-03-31_01_2018-06-28.xbrl\n",
      "..\\extracted_xbrl\\Xbrl_Search_20181129_112233\\S100DGWK\\XBRL\\PublicDoc\\jpcrp030000-asr-001_E11873-000_2018-03-31_01_2018-06-28.xbrl\n",
      "hit!!\n",
      "['レンゴー株式会社', '日本新薬株式会社', '日本コークス工業株式会社', '株式会社ツムラ', '株式会社カネカ', '宇部興産株式会社', '武田薬品工業株式会社', '日本製紙株式会社']\n",
      "..\\extracted_xbrl\\Xbrl_Search_20181129_112233\\S100DGZY\\XBRL\\PublicDoc\\jpcrp030000-asr-001_E00521-000_2018-03-31_01_2018-06-28.xbrl\n",
      "..\\extracted_xbrl\\Xbrl_Search_20181129_112233\\S100DHCR\\XBRL\\PublicDoc\\jpcrp030000-asr-001_E00789-000_2018-03-31_01_2018-06-28.xbrl\n",
      "..\\extracted_xbrl\\Xbrl_Search_20181129_112233\\S100DHLZ\\XBRL\\PublicDoc\\jpcrp030000-asr-001_E00568-000_2018-03-31_01_2018-06-28.xbrl\n",
      "..\\extracted_xbrl\\Xbrl_Search_20181129_112233\\S100DHR2\\XBRL\\PublicDoc\\jpcrp030000-asr-001_E01813-000_2018-03-31_01_2018-06-28.xbrl\n",
      "..\\extracted_xbrl\\Xbrl_Search_20181129_112233\\S100DHS9\\XBRL\\PublicDoc\\jpcrp030000-asr-001_E00573-000_2018-03-31_01_2018-06-28.xbrl\n",
      "..\\extracted_xbrl\\Xbrl_Search_20181129_112233\\S100DHT3\\XBRL\\PublicDoc\\jpcrp030000-asr-001_E01107-000_2018-03-31_01_2018-06-28.xbrl\n",
      "..\\extracted_xbrl\\Xbrl_Search_20181129_112233\\S100DHTY\\XBRL\\PublicDoc\\jpcrp030000-asr-001_E00904-000_2018-03-31_01_2018-06-29.xbrl\n",
      "..\\extracted_xbrl\\Xbrl_Search_20181129_112233\\S100DHW5\\XBRL\\PublicDoc\\jpcrp030000-asr-001_E00677-000_2018-03-31_01_2018-06-28.xbrl\n",
      "..\\extracted_xbrl\\Xbrl_Search_20181129_112233\\S100DHWN\\XBRL\\PublicDoc\\jpcrp030000-asr-001_E00576-000_2018-03-31_01_2018-06-29.xbrl\n",
      "..\\extracted_xbrl\\Xbrl_Search_20181129_112233\\S100DHXI\\XBRL\\PublicDoc\\jpcrp030000-asr-001_E00543-000_2018-03-31_01_2018-06-29.xbrl\n",
      "..\\extracted_xbrl\\Xbrl_Search_20181129_112233\\S100DHY2\\XBRL\\PublicDoc\\jpcrp030000-asr-001_E27624-000_2018-03-31_01_2018-06-28.xbrl\n",
      "..\\extracted_xbrl\\Xbrl_Search_20181129_112233\\S100DI0L\\XBRL\\PublicDoc\\jpcrp030000-asr-001_E00765-000_2018-03-31_01_2018-06-29.xbrl\n",
      "..\\extracted_xbrl\\Xbrl_Search_20181129_112233\\S100DI22\\XBRL\\PublicDoc\\jpcrp030000-asr-001_E00545-000_2018-03-31_01_2018-06-29.xbrl\n",
      "..\\extracted_xbrl\\Xbrl_Search_20181129_112233\\S100DI3J\\XBRL\\PublicDoc\\jpcrp030000-asr-001_E01084-000_2018-03-31_01_2018-06-28.xbrl\n",
      "hit!!\n",
      "['レンゴー株式会社', '日本新薬株式会社', '日本コークス工業株式会社', '株式会社ツムラ', '株式会社カネカ', '宇部興産株式会社', '武田薬品工業株式会社', '日本製紙株式会社', '出光興産株式会社']\n",
      "..\\extracted_xbrl\\Xbrl_Search_20181129_112233\\S100DI6M\\XBRL\\PublicDoc\\jpcrp030000-asr-001_E01088-000_2018-03-31_01_2018-06-28.xbrl\n",
      "..\\extracted_xbrl\\Xbrl_Search_20181129_112233\\S100DI99\\XBRL\\PublicDoc\\jpcrp030000-asr-001_E00572-000_2018-03-31_01_2018-06-28.xbrl\n",
      "..\\extracted_xbrl\\Xbrl_Search_20181129_112233\\S100DIA3\\XBRL\\PublicDoc\\jpcrp030000-asr-001_E00529-000_2018-03-31_01_2018-06-28.xbrl\n",
      "..\\extracted_xbrl\\Xbrl_Search_20181129_112233\\S100DIC4\\XBRL\\PublicDoc\\jpcrp030000-asr-001_E01152-000_2018-03-31_01_2018-06-29.xbrl\n",
      "..\\extracted_xbrl\\Xbrl_Search_20181129_112233\\S100DID3\\XBRL\\PublicDoc\\jpcrp030000-asr-001_E00664-000_2018-03-31_01_2018-06-28.xbrl\n"
     ]
    },
    {
     "name": "stdout",
     "output_type": "stream",
     "text": [
      "..\\extracted_xbrl\\Xbrl_Search_20181129_112233\\S100DIEJ\\XBRL\\PublicDoc\\jpcrp030000-asr-001_E00907-000_2018-03-31_01_2018-06-29.xbrl\n",
      "..\\extracted_xbrl\\Xbrl_Search_20181129_112233\\S100DIFB\\XBRL\\PublicDoc\\jpcrp030000-asr-001_E01078-000_2018-03-31_01_2018-06-28.xbrl\n",
      "..\\extracted_xbrl\\Xbrl_Search_20181129_112233\\S100DIHD\\XBRL\\PublicDoc\\jpcrp030000-asr-001_E00550-000_2018-03-31_01_2018-06-29.xbrl\n",
      "..\\extracted_xbrl\\Xbrl_Search_20181129_112233\\S100DIHF\\XBRL\\PublicDoc\\jpcrp030000-asr-001_E01035-000_2018-03-31_01_2018-06-29.xbrl\n",
      "..\\extracted_xbrl\\Xbrl_Search_20181129_112233\\S100DIHQ\\XBRL\\PublicDoc\\jpcrp030000-asr-001_E00988-000_2018-03-31_01_2018-06-29.xbrl\n",
      "..\\extracted_xbrl\\Xbrl_Search_20181129_112233\\S100DIJG\\XBRL\\PublicDoc\\jpcrp030000-asr-001_E00965-000_2018-03-31_01_2018-06-29.xbrl\n",
      "..\\extracted_xbrl\\Xbrl_Search_20181129_112233\\S100DIK3\\XBRL\\PublicDoc\\jpcrp030000-asr-001_E00771-000_2018-03-31_01_2018-06-29.xbrl\n",
      "..\\extracted_xbrl\\Xbrl_Search_20181129_112233\\S100DIKH\\XBRL\\PublicDoc\\jpcrp030000-asr-001_E01007-000_2018-03-31_01_2018-06-29.xbrl\n",
      "..\\extracted_xbrl\\Xbrl_Search_20181129_112233\\S100DIKT\\XBRL\\PublicDoc\\jpcrp030000-asr-001_E00776-000_2018-03-31_01_2018-06-29.xbrl\n",
      "hit!!\n",
      "['レンゴー株式会社', '日本新薬株式会社', '日本コークス工業株式会社', '株式会社ツムラ', '株式会社カネカ', '宇部興産株式会社', '武田薬品工業株式会社', '日本製紙株式会社', '出光興産株式会社', '信越化学工業株式会社']\n",
      "..\\extracted_xbrl\\Xbrl_Search_20181129_112233\\S100DIRZ\\XBRL\\PublicDoc\\jpcrp030000-asr-001_E00893-000_2018-03-31_01_2018-06-29.xbrl\n",
      "hit!!\n",
      "['レンゴー株式会社', '日本新薬株式会社', '日本コークス工業株式会社', '株式会社ツムラ', '株式会社カネカ', '宇部興産株式会社', '武田薬品工業株式会社', '日本製紙株式会社', '出光興産株式会社', '信越化学工業株式会社', '関西ペイント株式会社']\n",
      "..\\extracted_xbrl\\Xbrl_Search_20181129_112233\\S100DITI\\XBRL\\PublicDoc\\jpcrp030000-asr-001_E27032-000_2018-03-31_01_2018-06-29.xbrl\n",
      "..\\extracted_xbrl\\Xbrl_Search_20181129_112233\\S100DIXZ\\XBRL\\PublicDoc\\jpcrp030000-asr-001_E30865-000_2018-03-31_01_2018-06-29.xbrl\n"
     ]
    },
    {
     "ename": "AttributeError",
     "evalue": "'NoneType' object has no attribute 'get_value'",
     "output_type": "error",
     "traceback": [
      "\u001b[1;31m---------------------------------------------------------------------------\u001b[0m",
      "\u001b[1;31mAttributeError\u001b[0m                            Traceback (most recent call last)",
      "\u001b[1;32m<ipython-input-79-3edc077cf9a3>\u001b[0m in \u001b[0;36m<module>\u001b[1;34m()\u001b[0m\n\u001b[0;32m     21\u001b[0m         \u001b[0msales\u001b[0m \u001b[1;33m=\u001b[0m \u001b[0medinet_xbrl_obj\u001b[0m\u001b[1;33m.\u001b[0m\u001b[0mget_data_by_context_ref\u001b[0m\u001b[1;33m(\u001b[0m\u001b[0msales_key\u001b[0m\u001b[1;33m,\u001b[0m \u001b[0msales_context_ref\u001b[0m\u001b[1;33m)\u001b[0m\u001b[1;33m\u001b[0m\u001b[0m\n\u001b[0;32m     22\u001b[0m \u001b[1;33m\u001b[0m\u001b[0m\n\u001b[1;32m---> 23\u001b[1;33m     \u001b[0msales\u001b[0m \u001b[1;33m=\u001b[0m \u001b[0msales\u001b[0m\u001b[1;33m.\u001b[0m\u001b[0mget_value\u001b[0m\u001b[1;33m(\u001b[0m\u001b[1;33m)\u001b[0m\u001b[1;33m\u001b[0m\u001b[0m\n\u001b[0m\u001b[0;32m     24\u001b[0m \u001b[1;33m\u001b[0m\u001b[0m\n\u001b[0;32m     25\u001b[0m     \u001b[1;32mif\u001b[0m \u001b[0msales\u001b[0m \u001b[1;32mis\u001b[0m \u001b[1;32mNone\u001b[0m\u001b[1;33m:\u001b[0m\u001b[1;33m\u001b[0m\u001b[0m\n",
      "\u001b[1;31mAttributeError\u001b[0m: 'NoneType' object has no attribute 'get_value'"
     ]
    }
   ],
   "source": [
    "# 売上が1000億円以上の企業を取得\n",
    "target_company = []\n",
    "target_sales = []\n",
    "\n",
    "sales_context_ref = \"CurrentYearDuration_NonConsolidatedMember\" # 単体情報(親会社のみ)\n",
    "\n",
    "company_key = \"jpcrp_cor:CompanyNameCoverPage\"\n",
    "company_context_ref = \"FilingDateInstant\"\n",
    "\n",
    "for i in xbrl_file_path:\n",
    "    print(i)\n",
    "    sales_key = \"jpcrp_cor:NetSalesSummaryOfBusinessResults\"\n",
    "    \n",
    "    # 指定オブジェクトの取得\n",
    "    edinet_xbrl_obj = parser.parse_file(i)\n",
    "    sales = edinet_xbrl_obj.get_data_by_context_ref(sales_key, sales_context_ref)\n",
    "    \n",
    "    # 売上高が存在しないなら，営業収益を取得\n",
    "    if sales is None:\n",
    "        sales_key = \"jpcrp_cor:OperatingRevenue1SummaryOfBusinessResults\"\n",
    "        sales = edinet_xbrl_obj.get_data_by_context_ref(sales_key, sales_context_ref)\n",
    "    \n",
    "    sales = sales.get_value()\n",
    "    \n",
    "    if sales is None:\n",
    "        pass\n",
    "    else:\n",
    "        # 1000億円以上の売上ならリストに追加\n",
    "        if int(sales) >= 100000000000:\n",
    "            company = edinet_xbrl_obj.get_data_by_context_ref(company_key, company_context_ref).get_value()\n",
    "            target_company.append(company)\n",
    "            target_sales.append(sales)\n",
    "            print(\"hit!!\")\n",
    "            print(target_company)\n",
    "\n",
    "print(target_company)"
   ]
  },
  {
   "cell_type": "code",
   "execution_count": 63,
   "metadata": {},
   "outputs": [
    {
     "data": {
      "text/plain": [
       "NoneType"
      ]
     },
     "execution_count": 63,
     "metadata": {},
     "output_type": "execute_result"
    }
   ],
   "source": [
    "edinet_xbrl_obj = parser.parse_file(xbrl_file_path[7])\n",
    "sales = edinet_xbrl_obj.get_data_by_context_ref(sales_key, sales_context_ref)\n",
    "type(sales)"
   ]
  },
  {
   "cell_type": "code",
   "execution_count": null,
   "metadata": {},
   "outputs": [],
   "source": []
  }
 ],
 "metadata": {
  "kernelspec": {
   "display_name": "Python 3",
   "language": "python",
   "name": "python3"
  },
  "language_info": {
   "codemirror_mode": {
    "name": "ipython",
    "version": 3
   },
   "file_extension": ".py",
   "mimetype": "text/x-python",
   "name": "python",
   "nbconvert_exporter": "python",
   "pygments_lexer": "ipython3",
   "version": "3.5.5"
  },
  "widgets": {
   "state": {},
   "version": "1.1.2"
  }
 },
 "nbformat": 4,
 "nbformat_minor": 2
}
