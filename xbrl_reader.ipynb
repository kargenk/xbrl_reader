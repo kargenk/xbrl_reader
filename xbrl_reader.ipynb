{
 "cells": [
  {
   "cell_type": "markdown",
   "metadata": {},
   "source": [
    "# メモ書き\n",
    "## key(項目)\n",
    "### jpcrp_cor:CompanyNameCoverPage\n",
    "企業名\n",
    "### jppfs_cor:Assets\n",
    "総資産\n",
    "### jpcrp_cor:NetSalesSummaryOfBusinessResults\n",
    "売上高:製品や商品など有形物を販売する場合\n",
    "### jpcrp_cor:OperatingRevenue1SummaryOfBusinessResults\n",
    "営業収益:無形のサービスや手数料などを提供した場合\n",
    "### 例外(jpcrp030000-asr_E\\*\\*\\*\\*\\*-***:NAME)\n",
    "定義済みではない個社毎に独自に開示しているデータ，E\\*\\*\\*\\*\\* は会社番号でNAMEに項目名が入る．  \n",
    "asrはPublicDoc内の.xbrlファイル名に含まれる謎の文字列\n",
    "\n",
    "## context_ref(詳細)\n",
    "### FilingDateInstant\n",
    "企業名のコンテキスト(詳細不明)\n",
    "### CurrentYearInstant_NonConsolidatedMember\n",
    "CurrentYearInstant:今年度  \n",
    "NonConsolidatedMember:単体情報(親会社-持ち株会社のみ) ，ない場合は連結情報（子会社含む，ホールディングスと名前につくことが多い）  \n",
    "Instantは総資産のみに使われていると思われる\n",
    "#### CurrentYearDuration_NonConsolidatedMember\n",
    "Duration:期間 は 代n期を示す  \n",
    "Current:今期, Prior1:前期, Prior2:前々期, 以降さかのぼるごとにPriorに続く数値が増える"
   ]
  },
  {
   "cell_type": "code",
   "execution_count": 1,
   "metadata": {},
   "outputs": [],
   "source": [
    "#!usr/bin/env python3\n",
    "# -*- coding: utf-8 -*-"
   ]
  },
  {
   "cell_type": "code",
   "execution_count": 33,
   "metadata": {},
   "outputs": [],
   "source": [
    "from edinet_xbrl.edinet_xbrl_parser import EdinetXbrlParser\n",
    "from bs4 import BeautifulSoup\n",
    "import fnmatch\n",
    "import csv\n",
    "import os"
   ]
  },
  {
   "cell_type": "code",
   "execution_count": 3,
   "metadata": {},
   "outputs": [],
   "source": [
    "# 全xbrlファイルパスを取得する(ディレクトリを含んでしまう)\n",
    "def find_all_xbrl(directory):\n",
    "    for root, dirs, files in os.walk(directory):\n",
    "        yield root\n",
    "        for file in files:\n",
    "            if fnmatch.fnmatch(file, '*.xbrl'):\n",
    "                yield os.path.join(root, file)"
   ]
  },
  {
   "cell_type": "code",
   "execution_count": 4,
   "metadata": {
    "scrolled": true
   },
   "outputs": [],
   "source": [
    "# 全ファイルパスを取得\n",
    "all_file_path = []\n",
    "for f in find_all_xbrl(\"..\\extracted_xbrl\"):\n",
    "    all_file_path.append(f)"
   ]
  },
  {
   "cell_type": "code",
   "execution_count": 10,
   "metadata": {},
   "outputs": [
    {
     "name": "stdout",
     "output_type": "stream",
     "text": [
      "get 533 file paths\n"
     ]
    }
   ],
   "source": [
    "# xbrl形式の入るパスのみ取得\n",
    "xbrl_file_path = []\n",
    "for i in all_file_path:\n",
    "    # PublicDoc内のxbrlファイルはasrという文字列を含む\n",
    "    if fnmatch.fnmatch(i, '*asr*.xbrl'):\n",
    "        xbrl_file_path.append(i)\n",
    "print(\"get \" + str(len(xbrl_file_path)) + \" file paths\")"
   ]
  },
  {
   "cell_type": "code",
   "execution_count": 11,
   "metadata": {},
   "outputs": [],
   "source": [
    "# パーサの初期化\n",
    "parser = EdinetXbrlParser()"
   ]
  },
  {
   "cell_type": "code",
   "execution_count": 12,
   "metadata": {},
   "outputs": [],
   "source": [
    "# xbrlファイルを取得してpythonで扱えるオブジェクトに格納\n",
    "edinet_xbrl_obj = parser.parse_file(xbrl_file_path[246]) # 24カネカ 240住友理工 246東レ"
   ]
  },
  {
   "cell_type": "code",
   "execution_count": 13,
   "metadata": {},
   "outputs": [
    {
     "name": "stdout",
     "output_type": "stream",
     "text": [
      "..\\extracted_xbrl\\Xbrl_Search_20181129_114356\\S100D9YD\\XBRL\\PublicDoc\\jpcrp030000-asr-001_E00873-000_2018-03-31_01_2018-06-26.xbrl\n",
      "Company: 東レ株式会社\n"
     ]
    }
   ],
   "source": [
    "# 企業名を取得\n",
    "print(xbrl_file_path[246])\n",
    "key = \"jpcrp_cor:CompanyNameCoverPage\"\n",
    "context_ref = \"FilingDateInstant\"\n",
    "company_name = edinet_xbrl_obj.get_data_by_context_ref(key, context_ref).get_value()\n",
    "print(\"Company: \" + company_name)"
   ]
  },
  {
   "cell_type": "code",
   "execution_count": 14,
   "metadata": {},
   "outputs": [
    {
     "name": "stdout",
     "output_type": "stream",
     "text": [
      "..\\extracted_xbrl\\Xbrl_Search_20181129_114356\\S100D9YD\\XBRL\\PublicDoc\\jpcrp030000-asr-001_E00873-000_2018-03-31_01_2018-06-26.xbrl\n",
      "kaigai: \n",
      "<p class=\"smt_text6\" style=\"padding-left:18pt;\">(2) 有形固定資産</p>\n",
      "<div class=\"tbld\" style=\"margin-left:0pt;margin-right:0pt;margin-top:0pt;margin-bottom:0pt;\">\n",
      "<table cellspacing=\"0\" cellpadding=\"0\" style=\"border-collapse:collapse;border:solid 0pt #000000;width:360pt;\">\n",
      "<colgroup>\n",
      "<col style=\"width:60pt;min-width:60pt;\"/>\n",
      "<col style=\"width:60pt;min-width:60pt;\"/>\n",
      "<col style=\"width:60pt;min-width:60pt;\"/>\n",
      "<col style=\"width:60pt;min-width:60pt;\"/>\n",
      "<col style=\"width:60pt;min-width:60pt;\"/>\n",
      "<col style=\"width:60pt;min-width:60pt;\"/>\n",
      "</colgroup>\n",
      "<tr style=\"height:15pt\">\n",
      "<td valign=\"middle\" rowspan=\"2\" style=\"vertical-align:middle;border-top-style:solid;border-top-width:0.75pt;border-bottom-style:solid;border-bottom-width:0.75pt;border-left-style:solid;border-left-width:0.75pt;border-right-style:solid;border-right-width:0.75pt;\">\n",
      "<p class=\"smt_tblC\">日本<br/>(百万円)</p>\n",
      "</td>\n",
      "<td valign=\"middle\" colspan=\"2\" style=\"vertical-align:middle;border-top-style:solid;border-top-width:0.75pt;border-bottom-style:solid;border-bottom-width:0.75pt;border-left-style:solid;border-left-width:0.75pt;border-right-style:solid;border-right-width:0.75pt;\">\n",
      "<p class=\"smt_tblC\">アジア</p>\n",
      "</td>\n",
      "<td valign=\"middle\" colspan=\"2\" style=\"vertical-align:middle;border-top-style:solid;border-top-width:0.75pt;border-bottom-style:solid;border-bottom-width:0.75pt;border-left-style:solid;border-left-width:0.75pt;border-right-style:solid;border-right-width:0.75pt;\">\n",
      "<p class=\"smt_tblC\">欧米他</p>\n",
      "</td>\n",
      "<td valign=\"middle\" rowspan=\"2\" style=\"vertical-align:middle;border-top-style:solid;border-top-width:0.75pt;border-bottom-style:solid;border-bottom-width:0.75pt;border-left-style:solid;border-left-width:0.75pt;border-right-style:solid;border-right-width:0.75pt;\">\n",
      "<p class=\"smt_tblC\">合計<br/>(百万円)</p>\n",
      "</td>\n",
      "</tr>\n",
      "<tr style=\"height:22.5pt\">\n",
      "<td valign=\"middle\" style=\"vertical-align:middle;border-top-style:solid;border-top-width:0.75pt;border-bottom-style:solid;border-bottom-width:0.75pt;border-left-style:solid;border-left-width:0.75pt;border-right-style:solid;border-right-width:0.75pt;\">\n",
      "<p class=\"smt_tblC\">韓国<br/>(百万円)</p>\n",
      "</td>\n",
      "<td valign=\"middle\" style=\"vertical-align:middle;border-top-style:solid;border-top-width:0.75pt;border-bottom-style:solid;border-bottom-width:0.75pt;border-left-style:solid;border-left-width:0.75pt;border-right-style:solid;border-right-width:0.75pt;\">\n",
      "<p class=\"smt_tblC\">その他<br/>(百万円)</p>\n",
      "</td>\n",
      "<td valign=\"middle\" style=\"vertical-align:middle;border-top-style:solid;border-top-width:0.75pt;border-bottom-style:solid;border-bottom-width:0.75pt;border-left-style:solid;border-left-width:0.75pt;border-right-style:solid;border-right-width:0.75pt;\">\n",
      "<p class=\"smt_tblC\">米国<br/>(百万円)</p>\n",
      "</td>\n",
      "<td valign=\"middle\" style=\"vertical-align:middle;border-top-style:solid;border-top-width:0.75pt;border-bottom-style:solid;border-bottom-width:0.75pt;border-left-style:solid;border-left-width:0.75pt;border-right-style:solid;border-right-width:0.75pt;\">\n",
      "<p class=\"smt_tblC\">欧州他<br/>(百万円)</p>\n",
      "</td>\n",
      "</tr>\n",
      "<tr style=\"height:22.5pt\">\n",
      "<td valign=\"middle\" style=\"vertical-align:middle;border-top-style:solid;border-top-width:0.75pt;border-bottom-style:solid;border-bottom-width:0.75pt;border-left-style:solid;border-left-width:0.75pt;border-right-style:solid;border-right-width:0.75pt;\">\n",
      "<p class=\"smt_tblR\">326,679</p>\n",
      "</td>\n",
      "<td valign=\"middle\" style=\"vertical-align:middle;border-top-style:solid;border-top-width:0.75pt;border-bottom-style:solid;border-bottom-width:0.75pt;border-left-style:solid;border-left-width:0.75pt;border-right-style:solid;border-right-width:0.75pt;\">\n",
      "<p class=\"smt_tblR\">199,721</p>\n",
      "</td>\n",
      "<td valign=\"middle\" style=\"vertical-align:middle;border-top-style:solid;border-top-width:0.75pt;border-bottom-style:solid;border-bottom-width:0.75pt;border-left-style:solid;border-left-width:0.75pt;border-right-style:solid;border-right-width:0.75pt;\">\n",
      "<p class=\"smt_tblR\">153,741</p>\n",
      "</td>\n",
      "<td valign=\"middle\" style=\"vertical-align:middle;border-top-style:solid;border-top-width:0.75pt;border-bottom-style:solid;border-bottom-width:0.75pt;border-left-style:solid;border-left-width:0.75pt;border-right-style:solid;border-right-width:0.75pt;\">\n",
      "<p class=\"smt_tblR\">123,042</p>\n",
      "</td>\n",
      "<td valign=\"middle\" style=\"vertical-align:middle;border-top-style:solid;border-top-width:0.75pt;border-bottom-style:solid;border-bottom-width:0.75pt;border-left-style:solid;border-left-width:0.75pt;border-right-style:solid;border-right-width:0.75pt;\">\n",
      "<p class=\"smt_tblR\">123,846</p>\n",
      "</td>\n",
      "<td valign=\"middle\" style=\"vertical-align:middle;border-top-style:solid;border-top-width:0.75pt;border-bottom-style:solid;border-bottom-width:0.75pt;border-left-style:solid;border-left-width:0.75pt;border-right-style:solid;border-right-width:0.75pt;\">\n",
      "<p class=\"smt_tblR\">927,029</p>\n",
      "</td>\n",
      "</tr>\n",
      "</table>\n",
      "<p style=\"clear:both; line-height:0.75pt; width:100%; font-size:0.75pt;\"> </p>\n",
      "</div>\n",
      "<p class=\"smt_text6\"> </p>\n"
     ]
    },
    {
     "data": {
      "text/plain": [
       "bs4.element.NavigableString"
      ]
     },
     "execution_count": 14,
     "metadata": {},
     "output_type": "execute_result"
    }
   ],
   "source": [
    "# 今年度の有形固定資産を取得\n",
    "print(xbrl_file_path[246])\n",
    "key = \"jpcrp_cor:PropertyPlantAndEquipmentInformationForEachRegionTextBlock\"\n",
    "context_ref = \"CurrentYearDuration\"\n",
    "tangivleFixedAssets = edinet_xbrl_obj.get_data_by_context_ref(key, context_ref).get_value()\n",
    "print(\"tangivleFixedAssets: \" + tangivleFixedAssets)\n",
    "type(tangivleFixedAssets)"
   ]
  },
  {
   "cell_type": "code",
   "execution_count": 47,
   "metadata": {},
   "outputs": [
    {
     "name": "stdout",
     "output_type": "stream",
     "text": [
      "日本(百万円)\n",
      "アジア\n",
      "欧米他\n",
      "合計(百万円)\n",
      "韓国(百万円)\n",
      "その他(百万円)\n",
      "米国(百万円)\n",
      "欧州他(百万円)\n"
     ]
    },
    {
     "name": "stderr",
     "output_type": "stream",
     "text": [
      "C:\\Anaconda3\\lib\\site-packages\\bs4\\__init__.py:181: UserWarning: No parser was explicitly specified, so I'm using the best available HTML parser for this system (\"lxml\"). This usually isn't a problem, but if you run this code on another system, or in a different virtual environment, it may use a different parser and behave differently.\n",
      "\n",
      "The code that caused this warning is on line 193 of the file C:\\Anaconda3\\lib\\runpy.py. To get rid of this warning, change code that looks like this:\n",
      "\n",
      " BeautifulSoup(YOUR_MARKUP})\n",
      "\n",
      "to this:\n",
      "\n",
      " BeautifulSoup(YOUR_MARKUP, \"lxml\")\n",
      "\n",
      "  markup_type=markup_type))\n"
     ]
    }
   ],
   "source": [
    "# 邪魔な<br/>タグを除去\n",
    "tangivleFixedAssets = str(kaigai).replace(\"<br/>\", \"\")\n",
    "\n",
    "# 有形固定資産の該当箇所の抽出\n",
    "soup = BeautifulSoup(tangivleFixedAssets)\n",
    "fixedAssetsList = soup.find_all(\"p\", class_=\"smt_tblC\")\n",
    "for i in fixedAssetsList:\n",
    "    print(i.string)"
   ]
  },
  {
   "cell_type": "code",
   "execution_count": 56,
   "metadata": {},
   "outputs": [
    {
     "name": "stdout",
     "output_type": "stream",
     "text": [
      "Assets: 12768925000 JPN\n"
     ]
    }
   ],
   "source": [
    "# 総資産を取得\n",
    "key = \"jppfs_cor:Assets\"\n",
    "context_ref = \"CurrentYearInstant_NonConsolidatedMember\"\n",
    "current_year_assets = edinet_xbrl_obj.get_data_by_context_ref(key, context_ref).get_value()\n",
    "print(\"Assets: \" + current_year_assets + \" JPN\")"
   ]
  },
  {
   "cell_type": "code",
   "execution_count": 58,
   "metadata": {},
   "outputs": [
    {
     "name": "stdout",
     "output_type": "stream",
     "text": [
      "Sales: 6312682000 JPN\n"
     ]
    }
   ],
   "source": [
    "# 売上高を取得\n",
    "key = \"jpcrp_cor:NetSalesSummaryOfBusinessResults\"\n",
    "context_ref = \"CurrentYearDuration_NonConsolidatedMember\"\n",
    "current_year_duration = edinet_xbrl_obj.get_data_by_context_ref(key, context_ref).get_value()\n",
    "print(\"Sales: \" + current_year_duration + \" JPN\")"
   ]
  },
  {
   "cell_type": "code",
   "execution_count": 32,
   "metadata": {},
   "outputs": [
    {
     "name": "stdout",
     "output_type": "stream",
     "text": [
      "['レンゴー株式会社', '日本新薬株式会社', '日本コークス工業株式会社', '株式会社ツムラ', '株式会社カネカ', '宇部興産株式会社', '武田薬品工業株式会社', '日本製紙株式会社', '出光興産株式会社', '信越化学工業株式会社', '関西ペイント株式会社', '大王製紙株式会社', '日立化成株式会社', '出光興産株式会社', '日本コークス工業株式会社', '旭化成株式会社', 'エア・ウォーター株式会社', '積水化学工業株式会社', '日油株式会社', '株式会社エフピコ', '三菱製紙株式会社', '日本化薬株式会社', '北越紀州製紙株式会社', '日産化学工業株式会社', '富士石油株式会社', '東ソー株式会社', '日本ゼオン株式会社', '大日精化工業株式会社', '持田製薬株式会社', '株式会社コーセー', '日本ゼオン株式会社', 'アイカ工業株式会社', '株式会社ＡＤＥＫＡ', '日東電工株式会社', '住友理工株式会社', '東レ株式会社', '三洋化成工業株式会社', 'ダイキョーニシカワ株式会社', '田辺三菱製薬株式会社', '小野薬品工業株式会社', '株式会社トクヤマ', '株式会社ダイセル', 'ハリマ化成グループ株式会社', '三菱瓦斯化学株式会社', '東洋紡株式会社', 'グンゼ株式会社', '参天製薬株式会社', '沢井製薬株式会社', '三井化学株式会社', '小林製薬株式会社', '東洋ゴム工業株式会社', '横浜ゴム株式会社', 'ＤＩＣ株式会社', '昭和電工株式会社', 'ライオン株式会社', '住友ゴム工業株式会社', 'コクヨ株式会社', '小林製薬株式会社', '久光製薬株式会社', '大日本住友製薬株式会社', '株式会社日本触媒', '日医工株式会社', 'トヨタ紡織株式会社', '第一三共株式会社', 'アステラス製薬株式会社', '住友化学株式会社', 'イビデン株式会社', '大陽日酸株式会社', 'ＪＳＲ株式会社', 'コニカミノルタ株式会社', '豊田合成株式会社', 'エーザイ株式会社', '帝人株式会社', '塩野義製薬株式会社', 'デンカ株式会社', 'アステラス製薬株式会社', '関西ペイント株式会社', '大王製紙株式会社', '信越化学工業株式会社', '協和発酵キリン株式会社', 'ヒューリック株式会社', '中外製薬株式会社', '株式会社ブリヂストン', '株式会社資生堂', '株式会社クラレ', 'アース製薬株式会社', '花王株式会社', '昭和シェル石油株式会社', 'ユニ・チャーム株式会社', '株式会社クラレ', '中外製薬株式会社']\n",
      "['303406000000', '101221000000', '100472000000', '116230000000', '293016000000', '315241000000', '659462000000', '611735000000', '2746981000000', '733449000000', '151983000000', '390460000000', '374352000000', '2746981000000', '100472000000', '621875000000', '167782000000', '356785000000', '125333000000', '139840000000', '118445000000', '102150000000', '176245000000', '147319000000', '416857000000', '585195000000', '219002000000', '125960000000', '100528000000', '135893000000', '219002000000', '105513000000', '131319000000', '519000000000', '175064000000', '591664000000', '103902000000', '136006000000', '414957000000', '260223000000', '188501000000', '239638000000', '3040750000000', '364433000000', '202877000000', '107660000000', '171872000000', '134178000000', '676037000000', '133522000000', '218678000000', '331560000000', '232045000000', '524708000000', '264280000000', '461538000000', '167214000000', '133522000000', '112391000000', '251101000000', '226887000000', '150642000000', '721798000000', '630954000000', '613657000000', '708362000000', '128869000000', '213909000000', '240576000000', '436157000000', '376845000000', '334051000000', '116825000000', '315941000000', '237833000000', '613657000000', '144851000000', '389304000000', '637990000000', '210616000000', '253639000000', '526052000000', '858081000000', '220407000000', '242657000000', '115685000000', '919844000000', '1908970000000', '338846000000', '242657000000', '526052000000']\n"
     ]
    }
   ],
   "source": [
    "# 売上が1000億円以上の企業を取得\n",
    "target_company = []\n",
    "target_sales = []\n",
    "\n",
    "sales_context_ref = \"CurrentYearDuration_NonConsolidatedMember\" # 単体情報(親会社のみ)\n",
    "\n",
    "company_key = \"jpcrp_cor:CompanyNameCoverPage\"\n",
    "company_context_ref = \"FilingDateInstant\"\n",
    "\n",
    "for i in xbrl_file_path:\n",
    "    sales_key = \"jpcrp_cor:NetSalesSummaryOfBusinessResults\"\n",
    "    \n",
    "    # 指定オブジェクトの取得\n",
    "    edinet_xbrl_obj = parser.parse_file(i)\n",
    "    sales = edinet_xbrl_obj.get_data_by_context_ref(sales_key, sales_context_ref)\n",
    "    \n",
    "    # 売上高が存在しないなら，営業収益を取得\n",
    "    if sales is None:\n",
    "        sales_key = \"jpcrp_cor:OperatingRevenue1SummaryOfBusinessResults\"\n",
    "        sales = edinet_xbrl_obj.get_data_by_context_ref(sales_key, sales_context_ref)\n",
    "    \n",
    "    # 売上高，営業収益ともにないなら除外\n",
    "    if sales is None:\n",
    "        pass\n",
    "    else:\n",
    "        sales = sales.get_value()\n",
    "    \n",
    "    if sales is None:\n",
    "        pass\n",
    "    else:\n",
    "        # 1000億円以上の売上ならリストに追加\n",
    "        if int(sales) >= 100000000000:\n",
    "            company = edinet_xbrl_obj.get_data_by_context_ref(company_key, company_context_ref).get_value()\n",
    "            target_company.append(company)\n",
    "            target_sales.append(sales)\n",
    "\n",
    "print(target_company)\n",
    "print(target_sales)"
   ]
  },
  {
   "cell_type": "code",
   "execution_count": 54,
   "metadata": {},
   "outputs": [
    {
     "name": "stderr",
     "output_type": "stream",
     "text": [
      "C:\\Anaconda3\\lib\\site-packages\\bs4\\__init__.py:181: UserWarning: No parser was explicitly specified, so I'm using the best available HTML parser for this system (\"lxml\"). This usually isn't a problem, but if you run this code on another system, or in a different virtual environment, it may use a different parser and behave differently.\n",
      "\n",
      "The code that caused this warning is on line 193 of the file C:\\Anaconda3\\lib\\runpy.py. To get rid of this warning, change code that looks like this:\n",
      "\n",
      " BeautifulSoup(YOUR_MARKUP})\n",
      "\n",
      "to this:\n",
      "\n",
      " BeautifulSoup(YOUR_MARKUP, \"lxml\")\n",
      "\n",
      "  markup_type=markup_type))\n"
     ]
    },
    {
     "name": "stdout",
     "output_type": "stream",
     "text": [
      "['株式会社カネカ', '日本製紙株式会社', '旭化成株式会社', '三菱製紙株式会社', '東レ株式会社', '東洋ゴム工業株式会社', '東洋ゴム工業株式会社', '久光製薬株式会社', 'イビデン株式会社', '株式会社資生堂', '株式会社クラレ', '株式会社クラレ']\n",
      "['293016000000', '611735000000', '621875000000', '118445000000', '591664000000', '218678000000', '218678000000', '112391000000', '128869000000', '220407000000', '242657000000', '242657000000']\n"
     ]
    }
   ],
   "source": [
    "# 売上が1000億円以上の企業を取得\n",
    "target_company = []\n",
    "target_sales = []\n",
    "\n",
    "sales_context_ref = \"CurrentYearDuration_NonConsolidatedMember\" # 単体情報(親会社のみ)\n",
    "\n",
    "company_key = \"jpcrp_cor:CompanyNameCoverPage\"\n",
    "company_context_ref = \"FilingDateInstant\"\n",
    "\n",
    "for i in xbrl_file_path:\n",
    "    sales_key = \"jpcrp_cor:NetSalesSummaryOfBusinessResults\"\n",
    "    \n",
    "    # 指定オブジェクトの取得\n",
    "    edinet_xbrl_obj = parser.parse_file(i)\n",
    "    sales = edinet_xbrl_obj.get_data_by_context_ref(sales_key, sales_context_ref) # 売上高の取得\n",
    "    \n",
    "    # 売上高が存在しないなら，営業収益を取得\n",
    "    if sales is None:\n",
    "        sales_key = \"jpcrp_cor:OperatingRevenue1SummaryOfBusinessResults\"\n",
    "        sales = edinet_xbrl_obj.get_data_by_context_ref(sales_key, sales_context_ref)\n",
    "    \n",
    "    # 売上高，営業収益ともにないなら除外\n",
    "    if sales is None:\n",
    "        pass\n",
    "    else:\n",
    "        sales = sales.get_value()\n",
    "    \n",
    "    if sales is None:\n",
    "        pass\n",
    "    else:\n",
    "        # 1000億円以上の売上ならリストに追加\n",
    "        if int(sales) >= 100000000000:\n",
    "            company = edinet_xbrl_obj.get_data_by_context_ref(company_key, company_context_ref).get_value()\n",
    "            \n",
    "            tfa_key = \"jpcrp_cor:PropertyPlantAndEquipmentInformationForEachRegionTextBlock\"\n",
    "            tfa_context_ref = \"CurrentYearDuration\"\n",
    "            tangivleFixedAssets = edinet_xbrl_obj.get_data_by_context_ref(tfa_key, tfa_context_ref)\n",
    "            \n",
    "            if (tangivleFixedAssets is None):\n",
    "                pass\n",
    "            else:\n",
    "                tangivleFixedAssets = tangivleFixedAssets.get_value()\n",
    "                \n",
    "                # 邪魔な<br/>タグを除去して，有形固定資産の該当箇所の抽出\n",
    "                soup = BeautifulSoup(str(tangivleFixedAssets).replace(\"<br/>\", \"\"))\n",
    "                fixedAssetsList = soup.find_all(\"p\", class_=\"smt_tblC\")\n",
    "                for i in fixedAssetsList:\n",
    "                    if fnmatch.fnmatch(i.string, '*米国*') or fnmatch.fnmatch(i.string, '*北米*'):\n",
    "                        target_company.append(company)\n",
    "                        target_sales.append(sales)\n",
    "\n",
    "print(target_company)\n",
    "print(target_sales)"
   ]
  },
  {
   "cell_type": "code",
   "execution_count": 36,
   "metadata": {},
   "outputs": [],
   "source": [
    "with open('company_list.csv', 'w') as file:\n",
    "    writer = csv.writer(file, lineterminator='\\n')\n",
    "    writer.writerow(target_company)"
   ]
  },
  {
   "cell_type": "code",
   "execution_count": null,
   "metadata": {},
   "outputs": [],
   "source": []
  }
 ],
 "metadata": {
  "kernelspec": {
   "display_name": "Python 3",
   "language": "python",
   "name": "python3"
  },
  "language_info": {
   "codemirror_mode": {
    "name": "ipython",
    "version": 3
   },
   "file_extension": ".py",
   "mimetype": "text/x-python",
   "name": "python",
   "nbconvert_exporter": "python",
   "pygments_lexer": "ipython3",
   "version": "3.5.5"
  },
  "widgets": {
   "state": {},
   "version": "1.1.2"
  }
 },
 "nbformat": 4,
 "nbformat_minor": 2
}
