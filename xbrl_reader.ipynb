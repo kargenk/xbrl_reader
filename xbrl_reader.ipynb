{
 "cells": [
  {
   "cell_type": "code",
   "execution_count": 35,
   "metadata": {},
   "outputs": [],
   "source": [
    "#!usr/bin/env python3\n",
    "# -*- coding: utf-8 -*-"
   ]
  },
  {
   "cell_type": "code",
   "execution_count": 36,
   "metadata": {},
   "outputs": [],
   "source": [
    "from edinet_xbrl.edinet_xbrl_parser import EdinetXbrlParser\n",
    "import fnmatch\n",
    "import os"
   ]
  },
  {
   "cell_type": "code",
   "execution_count": 37,
   "metadata": {},
   "outputs": [],
   "source": [
    "# 全xbrlファイルパスを取得する(ディレクトリを含んでしまう)\n",
    "def find_all_xbrl(directory):\n",
    "    for root, dirs, files in os.walk(directory):\n",
    "        yield root\n",
    "        for file in files:\n",
    "            if fnmatch.fnmatch(file, '*.xbrl'):\n",
    "                yield os.path.join(root, file)"
   ]
  },
  {
   "cell_type": "code",
   "execution_count": 43,
   "metadata": {
    "scrolled": true
   },
   "outputs": [],
   "source": [
    "# 全ファイルパスを取得\n",
    "all_file_path = []\n",
    "for f in find_all_xbrl(\"..\\extracted_xbrl\"):\n",
    "    all_file_path.append(f)"
   ]
  },
  {
   "cell_type": "code",
   "execution_count": 44,
   "metadata": {},
   "outputs": [
    {
     "name": "stdout",
     "output_type": "stream",
     "text": [
      "533\n"
     ]
    }
   ],
   "source": [
    "# xbrl形式の入るパスのみ取得\n",
    "xbrl_file_path = []\n",
    "for i in all_file_path:\n",
    "    # PublicDoc内のxbrlファイルはasrという文字列を含む\n",
    "    if fnmatch.fnmatch(i, '*asr*.xbrl'):\n",
    "        xbrl_file_path.append(i)\n",
    "print(len(xbrl_file_path))"
   ]
  },
  {
   "cell_type": "code",
   "execution_count": 45,
   "metadata": {},
   "outputs": [],
   "source": [
    "# パーサの初期化\n",
    "parser = EdinetXbrlParser()"
   ]
  },
  {
   "cell_type": "code",
   "execution_count": 46,
   "metadata": {},
   "outputs": [],
   "source": [
    "# xbrlファイルを取得してpythonで扱えるオブジェクトに格納\n",
    "edinet_xbrl_obj = parser.parse_file(xbrl_file_path[0])"
   ]
  },
  {
   "cell_type": "code",
   "execution_count": 49,
   "metadata": {},
   "outputs": [
    {
     "name": "stdout",
     "output_type": "stream",
     "text": [
      "..\\extracted_xbrl\\Xbrl_Search_20181129_112233\\S100D0OG\\XBRL\\PublicDoc\\jpcrp030000-asr-001_E33794-000_2018-03-31_01_2018-06-28.xbrl\n",
      "12768925000\n"
     ]
    }
   ],
   "source": [
    "# 総資産を取得\n",
    "print(xbrl_file_path[0])\n",
    "key = \"jppfs_cor:Assets\"\n",
    "context_ref = \"CurrentYearInstant_NonConsolidatedMember\"\n",
    "current_year_assets = edinet_xbrl_obj.get_data_by_context_ref(key, context_ref).get_value()\n",
    "print(current_year_assets)"
   ]
  },
  {
   "cell_type": "code",
   "execution_count": 51,
   "metadata": {},
   "outputs": [
    {
     "name": "stdout",
     "output_type": "stream",
     "text": [
      "..\\extracted_xbrl\\Xbrl_Search_20181129_112233\\S100D0OG\\XBRL\\PublicDoc\\jpcrp030000-asr-001_E33794-000_2018-03-31_01_2018-06-28.xbrl\n",
      "6312682000\n"
     ]
    }
   ],
   "source": [
    "# 売上高を取得\n",
    "print(xbrl_file_path[0])\n",
    "key = \"jpcrp_cor:NetSalesSummaryOfBusinessResults\"\n",
    "context_ref = \"CurrentYearDuration_NonConsolidatedMember\"\n",
    "current_year_duration = edinet_xbrl_obj.get_data_by_context_ref(key, context_ref).get_value()\n",
    "print(current_year_duration)"
   ]
  },
  {
   "cell_type": "code",
   "execution_count": null,
   "metadata": {},
   "outputs": [],
   "source": []
  }
 ],
 "metadata": {
  "kernelspec": {
   "display_name": "Python 3",
   "language": "python",
   "name": "python3"
  },
  "language_info": {
   "codemirror_mode": {
    "name": "ipython",
    "version": 3
   },
   "file_extension": ".py",
   "mimetype": "text/x-python",
   "name": "python",
   "nbconvert_exporter": "python",
   "pygments_lexer": "ipython3",
   "version": "3.5.5"
  },
  "widgets": {
   "state": {},
   "version": "1.1.2"
  }
 },
 "nbformat": 4,
 "nbformat_minor": 2
}
